{
      "cells": [
            {
                  "cell_type": "code",
                  "execution_count": 1,
                  "metadata": {},
                  "outputs": [
                        {
                              "name": "stdout",
                              "output_type": "stream",
                              "text": [
                                    "/ws/lidarocclusion\n"
                              ]
                        }
                  ],
                  "source": [
                        "%cd ../.."
                  ]
            },
            {
                  "cell_type": "code",
                  "execution_count": 2,
                  "metadata": {},
                  "outputs": [],
                  "source": [
                        "%matplotlib inline"
                  ]
            },
            {
                  "cell_type": "code",
                  "execution_count": 3,
                  "metadata": {
                        "metadata": {}
                  },
                  "outputs": [],
                  "source": [
                        "import lidarocclusion.masks as masks"
                  ]
            },
            {
                  "cell_type": "code",
                  "execution_count": 4,
                  "metadata": {
                        "metadata": {}
                  },
                  "outputs": [],
                  "source": [
                        "from portion import IntervalDict"
                  ]
            },
            {
                  "cell_type": "code",
                  "execution_count": 5,
                  "metadata": {
                        "metadata": {}
                  },
                  "outputs": [],
                  "source": [
                        "mask = masks.ProbLidarMask([((0, 1), 0.7), ((2, 3), 0.7)])"
                  ]
            },
            {
                  "cell_type": "code",
                  "execution_count": 6,
                  "metadata": {},
                  "outputs": [
                        {
                              "data": {
                                    "text/plain": [
                                          "ProbLidarMask(('array([0.7, 0.7, 0.7, 0.7, 0.7, 0.7, 0.7, 0.7, 0.7, 0.7, 0.7, 0.7, 0.7,\\n       0.7, 0.7, 0.7, 0.7, 0.7, 0.7, 0.7, 0.7, 0.7, 0.7, 0.7, 0.7, 0.7,\\n       0.7, 0.7, 0.7, 0.7, 0.7, 0.7, 0.7, 0.7, 0.7, 0.7, 0.7, 0.7, 0.7,\\n       0.7, 0.7, 0.7, 0.7, 0.7, 0.7, 0.7, 0.7, 0.7, 0.7, 0.7, 0.7, 0.7,\\n       0.7, 0.7, 0.7, 0.7, 0.7, 0.7, 0. , 0. , 0. , 0. , 0. , 0. , 0. ,\\n       0. , 0. , 0. , 0. , 0. , 0. , 0. , 0. , 0. , 0. , 0. , 0. , 0. ,\\n       0. , 0. , 0. , 0. , 0. , 0. , 0. , 0. , 0. , 0. , 0. , 0. , 0. ,\\n       0. , 0. , 0. , 0. , 0. , 0. , 0. , 0. , 0. , 0. , 0. , 0. , 0. ,\\n       0. , 0. , 0. , 0. , 0. , 0. , 0. , 0. , 0. , 0. , 0. , 0.7, 0.7,\\n       0.7, 0.7, 0.7, 0.7, 0.7, 0.7, 0.7, 0.7, 0.7, 0.7, 0.7, 0.7, 0.7,\\n       0.7, 0.7, 0.7, 0.7, 0.7, 0.7, 0.7, 0.7, 0.7, 0.7, 0.7, 0.7, 0.7,\\n       0.7, 0.7, 0.7, 0.7, 0.7, 0.7, 0.7, 0.7, 0.7, 0.7, 0.7, 0.7, 0.7,\\n       0.7, 0.7, 0.7, 0.7, 0.7, 0.7, 0.7, 0.7, 0.7, 0.7, 0.7, 0.7, 0.7,\\n       0.7, 0.7, 0.7, 0. , 0. , 0. , 0. , 0. , 0. , 0. , 0. , 0. , 0. ,\\n       0. , 0. , 0. , 0. , 0. , 0. , 0. , 0. , 0. , 0. , 0. , 0. , 0. ,\\n       0. , 0. , 0. , 0. , 0. , 0. , 0. , 0. , 0. , 0. , 0. , 0. , 0. ,\\n       0. , 0. , 0. , 0. , 0. , 0. , 0. , 0. , 0. , 0. , 0. , 0. , 0. ,\\n       0. , 0. , 0. , 0. , 0. , 0. , 0. , 0. , 0. , 0. , 0. , 0. , 0. ,\\n       0. , 0. , 0. , 0. , 0. , 0. , 0. , 0. , 0. , 0. , 0. , 0. , 0. ,\\n       0. , 0. , 0. , 0. , 0. , 0. , 0. , 0. , 0. , 0. , 0. , 0. , 0. ,\\n       0. , 0. , 0. , 0. , 0. , 0. , 0. , 0. , 0. , 0. , 0. , 0. , 0. ,\\n       0. , 0. , 0. , 0. , 0. , 0. , 0. , 0. , 0. , 0. , 0. , 0. , 0. ,\\n       0. , 0. , 0. , 0. , 0. , 0. , 0. , 0. , 0. , 0. , 0. , 0. , 0. ,\\n       0. , 0. , 0. , 0. , 0. , 0. , 0. , 0. , 0. , 0. , 0. , 0. , 0. ,\\n       0. , 0. , 0. , 0. , 0. , 0. , 0. , 0. , 0. , 0. , 0. , 0. , 0. ,\\n       0. , 0. , 0. , 0. , 0. , 0. , 0. , 0. , 0. , 0. , 0. , 0. , 0. ,\\n       0. , 0. , 0. , 0. , 0. , 0. , 0. , 0. , 0. , 0. , 0. , 0. , 0. ,\\n       0. , 0. , 0. , 0. , 0. , 0. , 0. , 0. , 0. ])', Fraction(1, 180)))"
                                    ]
                              },
                              "execution_count": 6,
                              "metadata": {},
                              "output_type": "execute_result"
                        }
                  ],
                  "source": [
                        "mask"
                  ]
            },
            {
                  "cell_type": "code",
                  "execution_count": 7,
                  "metadata": {
                        "metadata": {}
                  },
                  "outputs": [
                        {
                              "data": {
                                    "text/plain": [
                                          "{[Fraction(0, 1),Fraction(29, 90)) | [Fraction(23, 36),Fraction(43, 45)): np.False_, [Fraction(29, 90),Fraction(23, 36)) | [Fraction(43, 45),Fraction(2, 1)): np.True_}"
                                    ]
                              },
                              "execution_count": 7,
                              "metadata": {},
                              "output_type": "execute_result"
                        }
                  ],
                  "source": [
                        "mask.map_bool(lambda x: x < 0.5).int_dict"
                  ]
            },
            {
                  "cell_type": "code",
                  "execution_count": 8,
                  "metadata": {
                        "metadata": {}
                  },
                  "outputs": [
                        {
                              "data": {
                                    "text/plain": [
                                          "BoolLidarMask([], 1/180)"
                                    ]
                              },
                              "execution_count": 8,
                              "metadata": {},
                              "output_type": "execute_result"
                        }
                  ],
                  "source": [
                        "mask < 0.8"
                  ]
            },
            {
                  "cell_type": "code",
                  "execution_count": 9,
                  "metadata": {},
                  "outputs": [],
                  "source": [
                        "import math"
                  ]
            },
            {
                  "cell_type": "code",
                  "execution_count": 10,
                  "metadata": {},
                  "outputs": [],
                  "source": [
                        "ms = [\n",
                        "    masks.BoolLidarMask([(2*k*math.pi/12, (2*k+5)*math.pi/12)])\n",
                        "        for k in range(12)\n",
                        "]"
                  ]
            },
            {
                  "cell_type": "code",
                  "execution_count": 11,
                  "metadata": {},
                  "outputs": [
                        {
                              "data": {
                                    "text/plain": [
                                          "BoolLidarMask([[Fraction(0, 1),Fraction(5, 6)), [Fraction(5, 4),Fraction(2, 1))], 1/180)"
                                    ]
                              },
                              "execution_count": 11,
                              "metadata": {},
                              "output_type": "execute_result"
                        }
                  ],
                  "source": [
                        "k = 5\n",
                        "masks.BoolLidarMask([(2*k*math.pi/12, (2*k+5)*math.pi/12)])"
                  ]
            },
            {
                  "cell_type": "code",
                  "execution_count": 12,
                  "metadata": {},
                  "outputs": [
                        {
                              "data": {
                                    "text/plain": [
                                          "[BoolLidarMask([[Fraction(5, 12),Fraction(2, 1))], 1/180),\n",
                                          " BoolLidarMask([[Fraction(0, 1),Fraction(1, 6)), [Fraction(7, 12),Fraction(2, 1))], 1/180),\n",
                                          " BoolLidarMask([[Fraction(0, 1),Fraction(1, 3)), [Fraction(3, 4),Fraction(2, 1))], 1/180),\n",
                                          " BoolLidarMask([[Fraction(0, 1),Fraction(1, 2)), [Fraction(11, 12),Fraction(2, 1))], 1/180),\n",
                                          " BoolLidarMask([[Fraction(0, 1),Fraction(2, 3)), [Fraction(49, 45),Fraction(2, 1))], 1/180),\n",
                                          " BoolLidarMask([[Fraction(0, 1),Fraction(5, 6)), [Fraction(5, 4),Fraction(2, 1))], 1/180),\n",
                                          " BoolLidarMask([[Fraction(0, 1),Fraction(1, 1)), [Fraction(17, 12),Fraction(2, 1))], 1/180),\n",
                                          " BoolLidarMask([[Fraction(0, 1),Fraction(7, 6)), [Fraction(19, 12),Fraction(2, 1))], 1/180),\n",
                                          " BoolLidarMask([[Fraction(0, 1),Fraction(4, 3)), [Fraction(7, 4),Fraction(2, 1))], 1/180),\n",
                                          " BoolLidarMask([[Fraction(0, 1),Fraction(3, 2)), [Fraction(23, 12),Fraction(2, 1))], 1/180),\n",
                                          " BoolLidarMask([[Fraction(0, 1),Fraction(5, 3))], 1/180),\n",
                                          " BoolLidarMask([[Fraction(0, 1),Fraction(11, 6))], 1/180)]"
                                    ]
                              },
                              "execution_count": 12,
                              "metadata": {},
                              "output_type": "execute_result"
                        }
                  ],
                  "source": [
                        "ms"
                  ]
            },
            {
                  "cell_type": "code",
                  "execution_count": 13,
                  "metadata": {},
                  "outputs": [
                        {
                              "data": {
                                    "text/plain": [
                                          "array([False, False, False, False, False, False, False, False, False,\n",
                                          "       False, False, False, False, False, False, False, False, False,\n",
                                          "       False, False, False, False, False, False, False, False, False,\n",
                                          "       False, False, False, False, False, False, False, False, False,\n",
                                          "       False, False, False, False, False, False, False, False, False,\n",
                                          "       False, False, False, False, False, False, False, False, False,\n",
                                          "       False, False, False, False, False, False, False, False, False,\n",
                                          "       False, False, False, False, False, False, False, False, False,\n",
                                          "       False, False, False, False, False, False, False, False, False,\n",
                                          "       False, False, False, False, False, False, False, False, False,\n",
                                          "       False, False, False, False, False, False, False, False, False,\n",
                                          "       False, False, False, False, False, False, False, False, False,\n",
                                          "       False, False, False, False, False, False, False, False, False,\n",
                                          "       False, False, False, False, False, False, False, False, False,\n",
                                          "       False, False, False, False, False, False, False, False, False,\n",
                                          "       False, False, False, False, False, False, False, False, False,\n",
                                          "       False, False, False, False, False, False,  True,  True,  True,\n",
                                          "        True,  True,  True,  True,  True,  True,  True,  True,  True,\n",
                                          "        True,  True,  True,  True,  True,  True,  True,  True,  True,\n",
                                          "        True,  True,  True,  True,  True,  True,  True,  True,  True,\n",
                                          "        True,  True,  True,  True,  True,  True,  True,  True,  True,\n",
                                          "        True,  True,  True,  True,  True,  True,  True,  True,  True,\n",
                                          "        True,  True,  True,  True,  True,  True,  True,  True,  True,\n",
                                          "        True,  True,  True,  True,  True,  True,  True,  True,  True,\n",
                                          "        True,  True,  True,  True,  True,  True,  True,  True,  True,\n",
                                          "       False, False, False, False, False, False, False, False, False,\n",
                                          "       False, False, False, False, False, False, False, False, False,\n",
                                          "       False, False, False, False, False, False, False, False, False,\n",
                                          "       False, False, False, False, False, False, False, False, False,\n",
                                          "       False, False, False, False, False, False, False, False, False,\n",
                                          "       False, False, False, False, False, False, False, False, False,\n",
                                          "       False, False, False, False, False, False, False, False, False,\n",
                                          "       False, False, False, False, False, False, False, False, False,\n",
                                          "       False, False, False, False, False, False, False, False, False,\n",
                                          "       False, False, False, False, False, False, False, False, False,\n",
                                          "       False, False, False, False, False, False, False, False, False,\n",
                                          "       False, False, False, False, False, False, False, False, False,\n",
                                          "       False, False, False, False, False, False, False, False, False,\n",
                                          "       False, False, False, False, False, False, False, False, False,\n",
                                          "       False, False, False, False, False, False, False, False, False])"
                                    ]
                              },
                              "execution_count": 13,
                              "metadata": {},
                              "output_type": "execute_result"
                        }
                  ],
                  "source": [
                        "ms[5]._values"
                  ]
            },
            {
                  "cell_type": "code",
                  "execution_count": 14,
                  "metadata": {},
                  "outputs": [],
                  "source": [
                        "import matplotlib.pyplot as plt"
                  ]
            },
            {
                  "cell_type": "code",
                  "execution_count": 15,
                  "metadata": {},
                  "outputs": [
                        {
                              "data": {
                                    "text/plain": [
                                          "Fraction(1, 180)"
                                    ]
                              },
                              "execution_count": 15,
                              "metadata": {},
                              "output_type": "execute_result"
                        }
                  ],
                  "source": [
                        "ms[0].base_angle"
                  ]
            },
            {
                  "cell_type": "code",
                  "execution_count": 16,
                  "metadata": {},
                  "outputs": [
                        {
                              "data": {
                                    "text/plain": [
                                          "{[Fraction(0, 1),Fraction(5, 12)): np.True_, [Fraction(5, 12),Fraction(2, 1)): np.False_}"
                                    ]
                              },
                              "execution_count": 16,
                              "metadata": {},
                              "output_type": "execute_result"
                        }
                  ],
                  "source": [
                        "ms[0].int_dict"
                  ]
            },
            {
                  "cell_type": "code",
                  "execution_count": 17,
                  "metadata": {},
                  "outputs": [
                        {
                              "name": "stderr",
                              "output_type": "stream",
                              "text": [
                                    "/tmp/ipykernel_13139/1398057536.py:3: UserWarning: FigureCanvasAgg is non-interactive, and thus cannot be shown\n",
                                    "  plt.show()\n"
                              ]
                        }
                  ],
                  "source": [
                        "for m in ms:\n",
                        "    m.pie_plot()\n",
                        "    plt.show()"
                  ]
            },
            {
                  "cell_type": "code",
                  "execution_count": 18,
                  "metadata": {},
                  "outputs": [
                        {
                              "data": {
                                    "text/plain": [
                                          "[0.0,\n",
                                          " 0.005555555555555556,\n",
                                          " 0.011111111111111112,\n",
                                          " 0.016666666666666666,\n",
                                          " 0.022222222222222223,\n",
                                          " 0.027777777777777776,\n",
                                          " 0.03333333333333333,\n",
                                          " 0.03888888888888889,\n",
                                          " 0.044444444444444446,\n",
                                          " 0.05,\n",
                                          " 0.05555555555555555,\n",
                                          " 0.06111111111111111,\n",
                                          " 0.06666666666666667,\n",
                                          " 0.07222222222222222,\n",
                                          " 0.07777777777777778,\n",
                                          " 0.08333333333333333,\n",
                                          " 0.08888888888888889,\n",
                                          " 0.09444444444444444,\n",
                                          " 0.1,\n",
                                          " 0.10555555555555556,\n",
                                          " 0.1111111111111111,\n",
                                          " 0.11666666666666667,\n",
                                          " 0.12222222222222222,\n",
                                          " 0.12777777777777777,\n",
                                          " 0.13333333333333333,\n",
                                          " 0.1388888888888889,\n",
                                          " 0.14444444444444443,\n",
                                          " 0.15,\n",
                                          " 0.15555555555555556,\n",
                                          " 0.16111111111111112,\n",
                                          " 0.16666666666666666,\n",
                                          " 0.17222222222222222,\n",
                                          " 0.17777777777777778,\n",
                                          " 0.18333333333333332,\n",
                                          " 0.18888888888888888,\n",
                                          " 0.19444444444444445,\n",
                                          " 0.2,\n",
                                          " 0.20555555555555555,\n",
                                          " 0.2111111111111111,\n",
                                          " 0.21666666666666667,\n",
                                          " 0.2222222222222222,\n",
                                          " 0.22777777777777777,\n",
                                          " 0.23333333333333334,\n",
                                          " 0.2388888888888889,\n",
                                          " 0.24444444444444444,\n",
                                          " 0.25,\n",
                                          " 0.25555555555555554,\n",
                                          " 0.2611111111111111,\n",
                                          " 0.26666666666666666,\n",
                                          " 0.2722222222222222,\n",
                                          " 0.2777777777777778,\n",
                                          " 0.2833333333333333,\n",
                                          " 0.28888888888888886,\n",
                                          " 0.29444444444444445,\n",
                                          " 0.3,\n",
                                          " 0.3055555555555556,\n",
                                          " 0.3111111111111111,\n",
                                          " 0.31666666666666665,\n",
                                          " 0.32222222222222224,\n",
                                          " 0.3277777777777778,\n",
                                          " 0.3333333333333333,\n",
                                          " 0.3388888888888889,\n",
                                          " 0.34444444444444444,\n",
                                          " 0.35,\n",
                                          " 0.35555555555555557,\n",
                                          " 0.3611111111111111,\n",
                                          " 0.36666666666666664,\n",
                                          " 0.37222222222222223,\n",
                                          " 0.37777777777777777,\n",
                                          " 0.38333333333333336,\n",
                                          " 0.3888888888888889,\n",
                                          " 0.39444444444444443,\n",
                                          " 0.4,\n",
                                          " 0.40555555555555556,\n",
                                          " 0.4111111111111111,\n",
                                          " 0.4166666666666667,\n",
                                          " 0.4222222222222222,\n",
                                          " 0.42777777777777776,\n",
                                          " 0.43333333333333335,\n",
                                          " 0.4388888888888889,\n",
                                          " 0.4444444444444444,\n",
                                          " 0.45,\n",
                                          " 0.45555555555555555,\n",
                                          " 0.46111111111111114,\n",
                                          " 0.4666666666666667,\n",
                                          " 0.4722222222222222,\n",
                                          " 0.4777777777777778,\n",
                                          " 0.48333333333333334,\n",
                                          " 0.4888888888888889,\n",
                                          " 0.49444444444444446,\n",
                                          " 0.5,\n",
                                          " 0.5055555555555555,\n",
                                          " 0.5111111111111111,\n",
                                          " 0.5166666666666667,\n",
                                          " 0.5222222222222223,\n",
                                          " 0.5277777777777778,\n",
                                          " 0.5333333333333333,\n",
                                          " 0.5388888888888889,\n",
                                          " 0.5444444444444444,\n",
                                          " 0.55,\n",
                                          " 0.5555555555555556,\n",
                                          " 0.5611111111111111,\n",
                                          " 0.5666666666666667,\n",
                                          " 0.5722222222222222,\n",
                                          " 0.5777777777777777,\n",
                                          " 0.5833333333333334,\n",
                                          " 0.5888888888888889,\n",
                                          " 0.5944444444444444,\n",
                                          " 0.6,\n",
                                          " 0.6055555555555555,\n",
                                          " 0.6111111111111112,\n",
                                          " 0.6166666666666667,\n",
                                          " 0.6222222222222222,\n",
                                          " 0.6277777777777778,\n",
                                          " 0.6333333333333333,\n",
                                          " 0.6388888888888888,\n",
                                          " 0.6444444444444445,\n",
                                          " 0.65,\n",
                                          " 0.6555555555555556,\n",
                                          " 0.6611111111111111,\n",
                                          " 0.6666666666666666,\n",
                                          " 0.6722222222222223,\n",
                                          " 0.6777777777777778,\n",
                                          " 0.6833333333333333,\n",
                                          " 0.6888888888888889,\n",
                                          " 0.6944444444444444,\n",
                                          " 0.7,\n",
                                          " 0.7055555555555556,\n",
                                          " 0.7111111111111111,\n",
                                          " 0.7166666666666667,\n",
                                          " 0.7222222222222222,\n",
                                          " 0.7277777777777777,\n",
                                          " 0.7333333333333333,\n",
                                          " 0.7388888888888889,\n",
                                          " 0.7444444444444445,\n",
                                          " 0.75,\n",
                                          " 0.7555555555555555,\n",
                                          " 0.7611111111111111,\n",
                                          " 0.7666666666666667,\n",
                                          " 0.7722222222222223,\n",
                                          " 0.7777777777777778,\n",
                                          " 0.7833333333333333,\n",
                                          " 0.7888888888888889,\n",
                                          " 0.7944444444444444,\n",
                                          " 0.8,\n",
                                          " 0.8055555555555556,\n",
                                          " 0.8111111111111111,\n",
                                          " 0.8166666666666667,\n",
                                          " 0.8222222222222222,\n",
                                          " 0.8277777777777777,\n",
                                          " 0.8333333333333334,\n",
                                          " 0.8388888888888889,\n",
                                          " 0.8444444444444444,\n",
                                          " 0.85,\n",
                                          " 0.8555555555555555,\n",
                                          " 0.8611111111111112,\n",
                                          " 0.8666666666666667,\n",
                                          " 0.8722222222222222,\n",
                                          " 0.8777777777777778,\n",
                                          " 0.8833333333333333,\n",
                                          " 0.8888888888888888,\n",
                                          " 0.8944444444444445,\n",
                                          " 0.9,\n",
                                          " 0.9055555555555556,\n",
                                          " 0.9111111111111111,\n",
                                          " 0.9166666666666666,\n",
                                          " 0.9222222222222223,\n",
                                          " 0.9277777777777778,\n",
                                          " 0.9333333333333333,\n",
                                          " 0.9388888888888889,\n",
                                          " 0.9444444444444444,\n",
                                          " 0.95,\n",
                                          " 0.9555555555555556,\n",
                                          " 0.9611111111111111,\n",
                                          " 0.9666666666666667,\n",
                                          " 0.9722222222222222,\n",
                                          " 0.9777777777777777,\n",
                                          " 0.9833333333333333,\n",
                                          " 0.9888888888888889,\n",
                                          " 0.9944444444444445,\n",
                                          " 1.0,\n",
                                          " 1.0055555555555555,\n",
                                          " 1.011111111111111,\n",
                                          " 1.0166666666666666,\n",
                                          " 1.0222222222222221,\n",
                                          " 1.0277777777777777,\n",
                                          " 1.0333333333333334,\n",
                                          " 1.038888888888889,\n",
                                          " 1.0444444444444445,\n",
                                          " 1.05,\n",
                                          " 1.0555555555555556,\n",
                                          " 1.0611111111111111,\n",
                                          " 1.0666666666666667,\n",
                                          " 1.0722222222222222,\n",
                                          " 1.0777777777777777,\n",
                                          " 1.0833333333333333,\n",
                                          " 1.0888888888888888,\n",
                                          " 1.0944444444444446,\n",
                                          " 1.1,\n",
                                          " 1.1055555555555556,\n",
                                          " 1.1111111111111112,\n",
                                          " 1.1166666666666667,\n",
                                          " 1.1222222222222222,\n",
                                          " 1.1277777777777778,\n",
                                          " 1.1333333333333333,\n",
                                          " 1.1388888888888888,\n",
                                          " 1.1444444444444444,\n",
                                          " 1.15,\n",
                                          " 1.1555555555555554,\n",
                                          " 1.1611111111111112,\n",
                                          " 1.1666666666666667,\n",
                                          " 1.1722222222222223,\n",
                                          " 1.1777777777777778,\n",
                                          " 1.1833333333333333,\n",
                                          " 1.1888888888888889,\n",
                                          " 1.1944444444444444,\n",
                                          " 1.2,\n",
                                          " 1.2055555555555555,\n",
                                          " 1.211111111111111,\n",
                                          " 1.2166666666666666,\n",
                                          " 1.2222222222222223,\n",
                                          " 1.2277777777777779,\n",
                                          " 1.2333333333333334,\n",
                                          " 1.238888888888889,\n",
                                          " 1.2444444444444445,\n",
                                          " 1.25,\n",
                                          " 1.2555555555555555,\n",
                                          " 1.261111111111111,\n",
                                          " 1.2666666666666666,\n",
                                          " 1.2722222222222221,\n",
                                          " 1.2777777777777777,\n",
                                          " 1.2833333333333334,\n",
                                          " 1.288888888888889,\n",
                                          " 1.2944444444444445,\n",
                                          " 1.3,\n",
                                          " 1.3055555555555556,\n",
                                          " 1.3111111111111111,\n",
                                          " 1.3166666666666667,\n",
                                          " 1.3222222222222222,\n",
                                          " 1.3277777777777777,\n",
                                          " 1.3333333333333333,\n",
                                          " 1.3388888888888888,\n",
                                          " 1.3444444444444446,\n",
                                          " 1.35,\n",
                                          " 1.3555555555555556,\n",
                                          " 1.3611111111111112,\n",
                                          " 1.3666666666666667,\n",
                                          " 1.3722222222222222,\n",
                                          " 1.3777777777777778,\n",
                                          " 1.3833333333333333,\n",
                                          " 1.3888888888888888,\n",
                                          " 1.3944444444444444,\n",
                                          " 1.4,\n",
                                          " 1.4055555555555554,\n",
                                          " 1.4111111111111112,\n",
                                          " 1.4166666666666667,\n",
                                          " 1.4222222222222223,\n",
                                          " 1.4277777777777778,\n",
                                          " 1.4333333333333333,\n",
                                          " 1.4388888888888889,\n",
                                          " 1.4444444444444444,\n",
                                          " 1.45,\n",
                                          " 1.4555555555555555,\n",
                                          " 1.461111111111111,\n",
                                          " 1.4666666666666666,\n",
                                          " 1.4722222222222223,\n",
                                          " 1.4777777777777779,\n",
                                          " 1.4833333333333334,\n",
                                          " 1.488888888888889,\n",
                                          " 1.4944444444444445,\n",
                                          " 1.5,\n",
                                          " 1.5055555555555555,\n",
                                          " 1.511111111111111,\n",
                                          " 1.5166666666666666,\n",
                                          " 1.5222222222222221,\n",
                                          " 1.5277777777777777,\n",
                                          " 1.5333333333333334,\n",
                                          " 1.538888888888889,\n",
                                          " 1.5444444444444445,\n",
                                          " 1.55,\n",
                                          " 1.5555555555555556,\n",
                                          " 1.5611111111111111,\n",
                                          " 1.5666666666666667,\n",
                                          " 1.5722222222222222,\n",
                                          " 1.5777777777777777,\n",
                                          " 1.5833333333333333,\n",
                                          " 1.5888888888888888,\n",
                                          " 1.5944444444444446,\n",
                                          " 1.6,\n",
                                          " 1.6055555555555556,\n",
                                          " 1.6111111111111112,\n",
                                          " 1.6166666666666667,\n",
                                          " 1.6222222222222222,\n",
                                          " 1.6277777777777778,\n",
                                          " 1.6333333333333333,\n",
                                          " 1.6388888888888888,\n",
                                          " 1.6444444444444444,\n",
                                          " 1.65,\n",
                                          " 1.6555555555555554,\n",
                                          " 1.6611111111111112,\n",
                                          " 1.6666666666666667,\n",
                                          " 1.6722222222222223,\n",
                                          " 1.6777777777777778,\n",
                                          " 1.6833333333333333,\n",
                                          " 1.6888888888888889,\n",
                                          " 1.6944444444444444,\n",
                                          " 1.7,\n",
                                          " 1.7055555555555555,\n",
                                          " 1.711111111111111,\n",
                                          " 1.7166666666666666,\n",
                                          " 1.7222222222222223,\n",
                                          " 1.7277777777777779,\n",
                                          " 1.7333333333333334,\n",
                                          " 1.738888888888889,\n",
                                          " 1.7444444444444445,\n",
                                          " 1.75,\n",
                                          " 1.7555555555555555,\n",
                                          " 1.761111111111111,\n",
                                          " 1.7666666666666666,\n",
                                          " 1.7722222222222221,\n",
                                          " 1.7777777777777777,\n",
                                          " 1.7833333333333334,\n",
                                          " 1.788888888888889,\n",
                                          " 1.7944444444444445,\n",
                                          " 1.8,\n",
                                          " 1.8055555555555556,\n",
                                          " 1.8111111111111111,\n",
                                          " 1.8166666666666667,\n",
                                          " 1.8222222222222222,\n",
                                          " 1.8277777777777777,\n",
                                          " 1.8333333333333333,\n",
                                          " 1.8388888888888888,\n",
                                          " 1.8444444444444446,\n",
                                          " 1.85,\n",
                                          " 1.8555555555555556,\n",
                                          " 1.8611111111111112,\n",
                                          " 1.8666666666666667,\n",
                                          " 1.8722222222222222,\n",
                                          " 1.8777777777777778,\n",
                                          " 1.8833333333333333,\n",
                                          " 1.8888888888888888,\n",
                                          " 1.8944444444444444,\n",
                                          " 1.9,\n",
                                          " 1.9055555555555554,\n",
                                          " 1.9111111111111112,\n",
                                          " 1.9166666666666667,\n",
                                          " 1.9222222222222223,\n",
                                          " 1.9277777777777778,\n",
                                          " 1.9333333333333333,\n",
                                          " 1.9388888888888889,\n",
                                          " 1.9444444444444444,\n",
                                          " 1.95,\n",
                                          " 1.9555555555555555,\n",
                                          " 1.961111111111111,\n",
                                          " 1.9666666666666666,\n",
                                          " 1.9722222222222223,\n",
                                          " 1.9777777777777779,\n",
                                          " 1.9833333333333334,\n",
                                          " 1.988888888888889,\n",
                                          " 1.9944444444444445]"
                                    ]
                              },
                              "execution_count": 18,
                              "metadata": {},
                              "output_type": "execute_result"
                        }
                  ],
                  "source": [
                        "[float(x) for x in ms[0].angles]"
                  ]
            },
            {
                  "cell_type": "code",
                  "execution_count": 19,
                  "metadata": {},
                  "outputs": [
                        {
                              "name": "stderr",
                              "output_type": "stream",
                              "text": [
                                    "/tmp/ipykernel_13139/870469083.py:3: UserWarning: FigureCanvasAgg is non-interactive, and thus cannot be shown\n",
                                    "  plt.show()\n",
                                    "/tmp/ipykernel_13139/870469083.py:3: UserWarning: FigureCanvasAgg is non-interactive, and thus cannot be shown\n",
                                    "  plt.show()\n",
                                    "/tmp/ipykernel_13139/870469083.py:3: UserWarning: FigureCanvasAgg is non-interactive, and thus cannot be shown\n",
                                    "  plt.show()\n",
                                    "/tmp/ipykernel_13139/870469083.py:3: UserWarning: FigureCanvasAgg is non-interactive, and thus cannot be shown\n",
                                    "  plt.show()\n",
                                    "/tmp/ipykernel_13139/870469083.py:3: UserWarning: FigureCanvasAgg is non-interactive, and thus cannot be shown\n",
                                    "  plt.show()\n",
                                    "/tmp/ipykernel_13139/870469083.py:3: UserWarning: FigureCanvasAgg is non-interactive, and thus cannot be shown\n",
                                    "  plt.show()\n",
                                    "/tmp/ipykernel_13139/870469083.py:3: UserWarning: FigureCanvasAgg is non-interactive, and thus cannot be shown\n",
                                    "  plt.show()\n",
                                    "/tmp/ipykernel_13139/870469083.py:3: UserWarning: FigureCanvasAgg is non-interactive, and thus cannot be shown\n",
                                    "  plt.show()\n",
                                    "/ws/lidarocclusion/lidarocclusion/masks.py:374: RuntimeWarning: More than 20 figures have been opened. Figures created through the pyplot interface (`matplotlib.pyplot.figure`) are retained until explicitly closed and may consume too much memory. (To control this warning, see the rcParam `figure.max_open_warning`). Consider using `matplotlib.pyplot.close()`.\n",
                                    "  fig = plt.figure(figsize=(18, 2))\n",
                                    "/tmp/ipykernel_13139/870469083.py:3: UserWarning: FigureCanvasAgg is non-interactive, and thus cannot be shown\n",
                                    "  plt.show()\n",
                                    "/tmp/ipykernel_13139/870469083.py:3: UserWarning: FigureCanvasAgg is non-interactive, and thus cannot be shown\n",
                                    "  plt.show()\n",
                                    "/tmp/ipykernel_13139/870469083.py:3: UserWarning: FigureCanvasAgg is non-interactive, and thus cannot be shown\n",
                                    "  plt.show()\n",
                                    "/tmp/ipykernel_13139/870469083.py:3: UserWarning: FigureCanvasAgg is non-interactive, and thus cannot be shown\n",
                                    "  plt.show()\n"
                              ]
                        }
                  ],
                  "source": [
                        "for m in ms:\n",
                        "    m.plot()\n",
                        "    plt.show()"
                  ]
            },
            {
                  "cell_type": "code",
                  "execution_count": 20,
                  "metadata": {},
                  "outputs": [],
                  "source": [
                        "from lidarocclusion.sliding_lidar_masks import sliding_lidar_mask, sliding_prob_lidar_mask"
                  ]
            },
            {
                  "cell_type": "code",
                  "execution_count": 21,
                  "metadata": {},
                  "outputs": [
                        {
                              "name": "stdout",
                              "output_type": "stream",
                              "text": [
                                    "CPU times: user 8.44 ms, sys: 26 µs, total: 8.47 ms\n",
                                    "Wall time: 7.73 ms\n"
                              ]
                        },
                        {
                              "data": {
                                    "text/plain": [
                                          "[BoolLidarMask([[Fraction(5, 12),Fraction(2, 1))], 1/180),\n",
                                          " BoolLidarMask([[Fraction(0, 1),Fraction(1, 6)), [Fraction(5, 12),Fraction(2, 1))], 1/180),\n",
                                          " BoolLidarMask([[Fraction(0, 1),Fraction(1, 3)), [Fraction(5, 12),Fraction(2, 1))], 1/180),\n",
                                          " BoolLidarMask([[Fraction(0, 1),Fraction(1, 2)), [Fraction(7, 12),Fraction(2, 1))], 1/180),\n",
                                          " BoolLidarMask([[Fraction(0, 1),Fraction(2, 3)), [Fraction(3, 4),Fraction(2, 1))], 1/180),\n",
                                          " BoolLidarMask([[Fraction(0, 1),Fraction(5, 6)), [Fraction(11, 12),Fraction(2, 1))], 1/180),\n",
                                          " BoolLidarMask([[Fraction(0, 1),Fraction(1, 1)), [Fraction(49, 45),Fraction(2, 1))], 1/180),\n",
                                          " BoolLidarMask([[Fraction(0, 1),Fraction(7, 6)), [Fraction(5, 4),Fraction(2, 1))], 1/180),\n",
                                          " BoolLidarMask([[Fraction(0, 1),Fraction(4, 3)), [Fraction(17, 12),Fraction(2, 1))], 1/180),\n",
                                          " BoolLidarMask([[Fraction(0, 1),Fraction(3, 2)), [Fraction(19, 12),Fraction(2, 1))], 1/180),\n",
                                          " BoolLidarMask([[Fraction(0, 1),Fraction(5, 3)), [Fraction(7, 4),Fraction(2, 1))], 1/180),\n",
                                          " BoolLidarMask([[Fraction(0, 1),Fraction(11, 6)), [Fraction(23, 12),Fraction(2, 1))], 1/180)]"
                                    ]
                              },
                              "execution_count": 21,
                              "metadata": {},
                              "output_type": "execute_result"
                        }
                  ],
                  "source": [
                        "%time list(sliding_lidar_mask(ms, window_size=3, cutoff=0.9))"
                  ]
            },
            {
                  "cell_type": "code",
                  "execution_count": 22,
                  "metadata": {},
                  "outputs": [
                        {
                              "name": "stderr",
                              "output_type": "stream",
                              "text": [
                                    "/tmp/ipykernel_13139/2695583293.py:3: UserWarning: FigureCanvasAgg is non-interactive, and thus cannot be shown\n",
                                    "  plt.show()\n",
                                    "/tmp/ipykernel_13139/2695583293.py:3: UserWarning: FigureCanvasAgg is non-interactive, and thus cannot be shown\n",
                                    "  plt.show()\n",
                                    "/tmp/ipykernel_13139/2695583293.py:3: UserWarning: FigureCanvasAgg is non-interactive, and thus cannot be shown\n",
                                    "  plt.show()\n",
                                    "/tmp/ipykernel_13139/2695583293.py:3: UserWarning: FigureCanvasAgg is non-interactive, and thus cannot be shown\n",
                                    "  plt.show()\n",
                                    "/tmp/ipykernel_13139/2695583293.py:3: UserWarning: FigureCanvasAgg is non-interactive, and thus cannot be shown\n",
                                    "  plt.show()\n",
                                    "/tmp/ipykernel_13139/2695583293.py:3: UserWarning: FigureCanvasAgg is non-interactive, and thus cannot be shown\n",
                                    "  plt.show()\n",
                                    "/tmp/ipykernel_13139/2695583293.py:3: UserWarning: FigureCanvasAgg is non-interactive, and thus cannot be shown\n",
                                    "  plt.show()\n",
                                    "/tmp/ipykernel_13139/2695583293.py:3: UserWarning: FigureCanvasAgg is non-interactive, and thus cannot be shown\n",
                                    "  plt.show()\n",
                                    "/tmp/ipykernel_13139/2695583293.py:3: UserWarning: FigureCanvasAgg is non-interactive, and thus cannot be shown\n",
                                    "  plt.show()\n",
                                    "/tmp/ipykernel_13139/2695583293.py:3: UserWarning: FigureCanvasAgg is non-interactive, and thus cannot be shown\n",
                                    "  plt.show()\n",
                                    "/tmp/ipykernel_13139/2695583293.py:3: UserWarning: FigureCanvasAgg is non-interactive, and thus cannot be shown\n",
                                    "  plt.show()\n",
                                    "/tmp/ipykernel_13139/2695583293.py:3: UserWarning: FigureCanvasAgg is non-interactive, and thus cannot be shown\n",
                                    "  plt.show()\n"
                              ]
                        }
                  ],
                  "source": [
                        "for p in sliding_prob_lidar_mask(ms, window_size=3):\n",
                        "    p.plot()\n",
                        "    plt.show()"
                  ]
            },
            {
                  "cell_type": "code",
                  "execution_count": 23,
                  "metadata": {},
                  "outputs": [
                        {
                              "name": "stderr",
                              "output_type": "stream",
                              "text": [
                                    "/tmp/ipykernel_13139/420955863.py:3: UserWarning: FigureCanvasAgg is non-interactive, and thus cannot be shown\n",
                                    "  plt.show()\n",
                                    "/tmp/ipykernel_13139/420955863.py:3: UserWarning: FigureCanvasAgg is non-interactive, and thus cannot be shown\n",
                                    "  plt.show()\n",
                                    "/tmp/ipykernel_13139/420955863.py:3: UserWarning: FigureCanvasAgg is non-interactive, and thus cannot be shown\n",
                                    "  plt.show()\n",
                                    "/tmp/ipykernel_13139/420955863.py:3: UserWarning: FigureCanvasAgg is non-interactive, and thus cannot be shown\n",
                                    "  plt.show()\n",
                                    "/tmp/ipykernel_13139/420955863.py:3: UserWarning: FigureCanvasAgg is non-interactive, and thus cannot be shown\n",
                                    "  plt.show()\n",
                                    "/tmp/ipykernel_13139/420955863.py:3: UserWarning: FigureCanvasAgg is non-interactive, and thus cannot be shown\n",
                                    "  plt.show()\n",
                                    "/tmp/ipykernel_13139/420955863.py:3: UserWarning: FigureCanvasAgg is non-interactive, and thus cannot be shown\n",
                                    "  plt.show()\n",
                                    "/tmp/ipykernel_13139/420955863.py:3: UserWarning: FigureCanvasAgg is non-interactive, and thus cannot be shown\n",
                                    "  plt.show()\n",
                                    "/tmp/ipykernel_13139/420955863.py:3: UserWarning: FigureCanvasAgg is non-interactive, and thus cannot be shown\n",
                                    "  plt.show()\n",
                                    "/tmp/ipykernel_13139/420955863.py:3: UserWarning: FigureCanvasAgg is non-interactive, and thus cannot be shown\n",
                                    "  plt.show()\n",
                                    "/tmp/ipykernel_13139/420955863.py:3: UserWarning: FigureCanvasAgg is non-interactive, and thus cannot be shown\n",
                                    "  plt.show()\n",
                                    "/tmp/ipykernel_13139/420955863.py:3: UserWarning: FigureCanvasAgg is non-interactive, and thus cannot be shown\n",
                                    "  plt.show()\n"
                              ]
                        }
                  ],
                  "source": [
                        "for m in sliding_lidar_mask(ms, window_size=3, cutoff=0.4):\n",
                        "    m.plot()\n",
                        "    plt.show()"
                  ]
            },
            {
                  "cell_type": "code",
                  "execution_count": 24,
                  "metadata": {},
                  "outputs": [
                        {
                              "data": {
                                    "image/png": "[encoded data removed]",
                                    "text/plain": [
                                          "<Figure size 432x72 with 1 Axes>"
                                    ]
                              },
                              "execution_count": 24,
                              "metadata": {},
                              "output_type": "execute_result"
                        }
                  ],
                  "source": [
                        "a = masks.ProbLidarMask([((math.pi, 2*math.pi), 1.0)])\n",
                        "a.plot()"
                  ]
            },
            {
                  "cell_type": "code",
                  "execution_count": 25,
                  "metadata": {},
                  "outputs": [
                        {
                              "data": {
                                    "image/png": "[encoded data removed]",
                                    "text/plain": [
                                          "<Figure size 432x72 with 1 Axes>"
                                    ]
                              },
                              "execution_count": 25,
                              "metadata": {},
                              "output_type": "execute_result"
                        }
                  ],
                  "source": [
                        "b = masks.ProbLidarMask([((math.pi/2, (3/2)*math.pi), 1.0)])\n",
                        "b.plot()"
                  ]
            },
            {
                  "cell_type": "code",
                  "execution_count": 26,
                  "metadata": {},
                  "outputs": [
                        {
                              "name": "stdout",
                              "output_type": "stream",
                              "text": [
                                    "11.3 µs ± 1.74 µs per loop (mean ± std. dev. of 7 runs, 100000 loops each)\n"
                              ]
                        }
                  ],
                  "source": [
                        "%timeit a + b"
                  ]
            },
            {
                  "cell_type": "code",
                  "execution_count": 27,
                  "metadata": {},
                  "outputs": [
                        {
                              "data": {
                                    "image/png": "[encoded data removed]",
                                    "text/plain": [
                                          "<Figure size 432x72 with 1 Axes>"
                                    ]
                              },
                              "execution_count": 27,
                              "metadata": {},
                              "output_type": "execute_result"
                        }
                  ],
                  "source": [
                        "(a + b).plot()"
                  ]
            },
            {
                  "cell_type": "code",
                  "execution_count": 28,
                  "metadata": {},
                  "outputs": [
                        {
                              "data": {
                                    "image/png": "[encoded data removed]",
                                    "text/plain": [
                                          "<Figure size 432x72 with 1 Axes>"
                                    ]
                              },
                              "execution_count": 28,
                              "metadata": {},
                              "output_type": "execute_result"
                        }
                  ],
                  "source": [
                        "(a + (-b)).plot()"
                  ]
            },
            {
                  "cell_type": "code",
                  "execution_count": 29,
                  "metadata": {},
                  "outputs": [
                        {
                              "data": {
                                    "image/png": "[encoded data removed]",
                                    "text/plain": [
                                          "<Figure size 432x72 with 1 Axes>"
                                    ]
                              },
                              "execution_count": 29,
                              "metadata": {},
                              "output_type": "execute_result"
                        }
                  ],
                  "source": [
                        "(a - b).plot()"
                  ]
            },
            {
                  "cell_type": "code",
                  "execution_count": 30,
                  "metadata": {},
                  "outputs": [
                        {
                              "data": {
                                    "image/png": "[encoded data removed]",
                                    "text/plain": [
                                          "<Figure size 432x72 with 1 Axes>"
                                    ]
                              },
                              "execution_count": 30,
                              "metadata": {},
                              "output_type": "execute_result"
                        }
                  ],
                  "source": [
                        "(a + (b - a)).plot()"
                  ]
            },
            {
                  "cell_type": "code",
                  "execution_count": 31,
                  "metadata": {},
                  "outputs": [
                        {
                              "data": {
                                    "text/plain": [
                                          "[ProbLidarMask(('array([1., 1., 1., 1., 1., 1., 1., 1., 1., 1., 1., 1., 1., 1., 1., 1., 1.,\\n       1., 1., 1., 1., 1., 1., 1., 1., 1., 1., 1., 1., 1., 1., 1., 1., 1.,\\n       1., 1., 1., 1., 1., 1., 1., 1., 1., 1., 1., 1., 1., 1., 1., 1., 1.,\\n       1., 1., 1., 1., 1., 1., 1., 1., 1., 1., 1., 1., 1., 1., 1., 1., 1.,\\n       1., 1., 1., 1., 1., 1., 1., 0., 0., 0., 0., 0., 0., 0., 0., 0., 0.,\\n       0., 0., 0., 0., 0., 0., 0., 0., 0., 0., 0., 0., 0., 0., 0., 0., 0.,\\n       0., 0., 0., 0., 0., 0., 0., 0., 0., 0., 0., 0., 0., 0., 0., 0., 0.,\\n       0., 0., 0., 0., 0., 0., 0., 0., 0., 0., 0., 0., 0., 0., 0., 0., 0.,\\n       0., 0., 0., 0., 0., 0., 0., 0., 0., 0., 0., 0., 0., 0., 0., 0., 0.,\\n       0., 0., 0., 0., 0., 0., 0., 0., 0., 0., 0., 0., 0., 0., 0., 0., 0.,\\n       0., 0., 0., 0., 0., 0., 0., 0., 0., 0., 0., 0., 0., 0., 0., 0., 0.,\\n       0., 0., 0., 0., 0., 0., 0., 0., 0., 0., 0., 0., 0., 0., 0., 0., 0.,\\n       0., 0., 0., 0., 0., 0., 0., 0., 0., 0., 0., 0., 0., 0., 0., 0., 0.,\\n       0., 0., 0., 0., 0., 0., 0., 0., 0., 0., 0., 0., 0., 0., 0., 0., 0.,\\n       0., 0., 0., 0., 0., 0., 0., 0., 0., 0., 0., 0., 0., 0., 0., 0., 0.,\\n       0., 0., 0., 0., 0., 0., 0., 0., 0., 0., 0., 0., 0., 0., 0., 0., 0.,\\n       0., 0., 0., 0., 0., 0., 0., 0., 0., 0., 0., 0., 0., 0., 0., 0., 0.,\\n       0., 0., 0., 0., 0., 0., 0., 0., 0., 0., 0., 0., 0., 0., 0., 0., 0.,\\n       0., 0., 0., 0., 0., 0., 0., 0., 0., 0., 0., 0., 0., 0., 0., 0., 0.,\\n       0., 0., 0., 0., 0., 0., 0., 0., 0., 0., 0., 0., 0., 0., 0., 0., 0.,\\n       0., 0., 0., 0., 0., 0., 0., 0., 0., 0., 0., 0., 0., 0., 0., 0., 0.,\\n       0., 0., 0.])', Fraction(1, 180))),\n",
                                          " ProbLidarMask(('array([0., 0., 0., 0., 0., 0., 0., 0., 0., 0., 0., 0., 0., 0., 0., 0., 0.,\\n       0., 0., 0., 0., 0., 0., 0., 0., 0., 0., 0., 0., 0., 1., 1., 1., 1.,\\n       1., 1., 1., 1., 1., 1., 1., 1., 1., 1., 1., 1., 1., 1., 1., 1., 1.,\\n       1., 1., 1., 1., 1., 1., 1., 1., 1., 1., 1., 1., 1., 1., 1., 1., 1.,\\n       1., 1., 1., 1., 1., 1., 1., 1., 1., 1., 1., 1., 1., 1., 1., 1., 1.,\\n       1., 1., 1., 1., 1., 1., 1., 1., 1., 1., 1., 1., 1., 1., 1., 1., 1.,\\n       1., 1., 1., 0., 0., 0., 0., 0., 0., 0., 0., 0., 0., 0., 0., 0., 0.,\\n       0., 0., 0., 0., 0., 0., 0., 0., 0., 0., 0., 0., 0., 0., 0., 0., 0.,\\n       0., 0., 0., 0., 0., 0., 0., 0., 0., 0., 0., 0., 0., 0., 0., 0., 0.,\\n       0., 0., 0., 0., 0., 0., 0., 0., 0., 0., 0., 0., 0., 0., 0., 0., 0.,\\n       0., 0., 0., 0., 0., 0., 0., 0., 0., 0., 0., 0., 0., 0., 0., 0., 0.,\\n       0., 0., 0., 0., 0., 0., 0., 0., 0., 0., 0., 0., 0., 0., 0., 0., 0.,\\n       0., 0., 0., 0., 0., 0., 0., 0., 0., 0., 0., 0., 0., 0., 0., 0., 0.,\\n       0., 0., 0., 0., 0., 0., 0., 0., 0., 0., 0., 0., 0., 0., 0., 0., 0.,\\n       0., 0., 0., 0., 0., 0., 0., 0., 0., 0., 0., 0., 0., 0., 0., 0., 0.,\\n       0., 0., 0., 0., 0., 0., 0., 0., 0., 0., 0., 0., 0., 0., 0., 0., 0.,\\n       0., 0., 0., 0., 0., 0., 0., 0., 0., 0., 0., 0., 0., 0., 0., 0., 0.,\\n       0., 0., 0., 0., 0., 0., 0., 0., 0., 0., 0., 0., 0., 0., 0., 0., 0.,\\n       0., 0., 0., 0., 0., 0., 0., 0., 0., 0., 0., 0., 0., 0., 0., 0., 0.,\\n       0., 0., 0., 0., 0., 0., 0., 0., 0., 0., 0., 0., 0., 0., 0., 0., 0.,\\n       0., 0., 0., 0., 0., 0., 0., 0., 0., 0., 0., 0., 0., 0., 0., 0., 0.,\\n       0., 0., 0.])', Fraction(1, 180))),\n",
                                          " ProbLidarMask(('array([0., 0., 0., 0., 0., 0., 0., 0., 0., 0., 0., 0., 0., 0., 0., 0., 0.,\\n       0., 0., 0., 0., 0., 0., 0., 0., 0., 0., 0., 0., 0., 0., 0., 0., 0.,\\n       0., 0., 0., 0., 0., 0., 0., 0., 0., 0., 0., 0., 0., 0., 0., 0., 0.,\\n       0., 0., 0., 0., 0., 0., 0., 0., 0., 1., 1., 1., 1., 1., 1., 1., 1.,\\n       1., 1., 1., 1., 1., 1., 1., 1., 1., 1., 1., 1., 1., 1., 1., 1., 1.,\\n       1., 1., 1., 1., 1., 1., 1., 1., 1., 1., 1., 1., 1., 1., 1., 1., 1.,\\n       1., 1., 1., 1., 1., 1., 1., 1., 1., 1., 1., 1., 1., 1., 1., 1., 1.,\\n       1., 1., 1., 1., 1., 1., 1., 1., 1., 1., 1., 1., 1., 1., 1., 1., 0.,\\n       0., 0., 0., 0., 0., 0., 0., 0., 0., 0., 0., 0., 0., 0., 0., 0., 0.,\\n       0., 0., 0., 0., 0., 0., 0., 0., 0., 0., 0., 0., 0., 0., 0., 0., 0.,\\n       0., 0., 0., 0., 0., 0., 0., 0., 0., 0., 0., 0., 0., 0., 0., 0., 0.,\\n       0., 0., 0., 0., 0., 0., 0., 0., 0., 0., 0., 0., 0., 0., 0., 0., 0.,\\n       0., 0., 0., 0., 0., 0., 0., 0., 0., 0., 0., 0., 0., 0., 0., 0., 0.,\\n       0., 0., 0., 0., 0., 0., 0., 0., 0., 0., 0., 0., 0., 0., 0., 0., 0.,\\n       0., 0., 0., 0., 0., 0., 0., 0., 0., 0., 0., 0., 0., 0., 0., 0., 0.,\\n       0., 0., 0., 0., 0., 0., 0., 0., 0., 0., 0., 0., 0., 0., 0., 0., 0.,\\n       0., 0., 0., 0., 0., 0., 0., 0., 0., 0., 0., 0., 0., 0., 0., 0., 0.,\\n       0., 0., 0., 0., 0., 0., 0., 0., 0., 0., 0., 0., 0., 0., 0., 0., 0.,\\n       0., 0., 0., 0., 0., 0., 0., 0., 0., 0., 0., 0., 0., 0., 0., 0., 0.,\\n       0., 0., 0., 0., 0., 0., 0., 0., 0., 0., 0., 0., 0., 0., 0., 0., 0.,\\n       0., 0., 0., 0., 0., 0., 0., 0., 0., 0., 0., 0., 0., 0., 0., 0., 0.,\\n       0., 0., 0.])', Fraction(1, 180))),\n",
                                          " ProbLidarMask(('array([0., 0., 0., 0., 0., 0., 0., 0., 0., 0., 0., 0., 0., 0., 0., 0., 0.,\\n       0., 0., 0., 0., 0., 0., 0., 0., 0., 0., 0., 0., 0., 0., 0., 0., 0.,\\n       0., 0., 0., 0., 0., 0., 0., 0., 0., 0., 0., 0., 0., 0., 0., 0., 0.,\\n       0., 0., 0., 0., 0., 0., 0., 0., 0., 0., 0., 0., 0., 0., 0., 0., 0.,\\n       0., 0., 0., 0., 0., 0., 0., 0., 0., 0., 0., 0., 0., 0., 0., 0., 0.,\\n       0., 0., 0., 0., 0., 1., 1., 1., 1., 1., 1., 1., 1., 1., 1., 1., 1.,\\n       1., 1., 1., 1., 1., 1., 1., 1., 1., 1., 1., 1., 1., 1., 1., 1., 1.,\\n       1., 1., 1., 1., 1., 1., 1., 1., 1., 1., 1., 1., 1., 1., 1., 1., 1.,\\n       1., 1., 1., 1., 1., 1., 1., 1., 1., 1., 1., 1., 1., 1., 1., 1., 1.,\\n       1., 1., 1., 1., 1., 1., 1., 1., 1., 1., 1., 1., 0., 0., 0., 0., 0.,\\n       0., 0., 0., 0., 0., 0., 0., 0., 0., 0., 0., 0., 0., 0., 0., 0., 0.,\\n       0., 0., 0., 0., 0., 0., 0., 0., 0., 0., 0., 0., 0., 0., 0., 0., 0.,\\n       0., 0., 0., 0., 0., 0., 0., 0., 0., 0., 0., 0., 0., 0., 0., 0., 0.,\\n       0., 0., 0., 0., 0., 0., 0., 0., 0., 0., 0., 0., 0., 0., 0., 0., 0.,\\n       0., 0., 0., 0., 0., 0., 0., 0., 0., 0., 0., 0., 0., 0., 0., 0., 0.,\\n       0., 0., 0., 0., 0., 0., 0., 0., 0., 0., 0., 0., 0., 0., 0., 0., 0.,\\n       0., 0., 0., 0., 0., 0., 0., 0., 0., 0., 0., 0., 0., 0., 0., 0., 0.,\\n       0., 0., 0., 0., 0., 0., 0., 0., 0., 0., 0., 0., 0., 0., 0., 0., 0.,\\n       0., 0., 0., 0., 0., 0., 0., 0., 0., 0., 0., 0., 0., 0., 0., 0., 0.,\\n       0., 0., 0., 0., 0., 0., 0., 0., 0., 0., 0., 0., 0., 0., 0., 0., 0.,\\n       0., 0., 0., 0., 0., 0., 0., 0., 0., 0., 0., 0., 0., 0., 0., 0., 0.,\\n       0., 0., 0.])', Fraction(1, 180))),\n",
                                          " ProbLidarMask(('array([0., 0., 0., 0., 0., 0., 0., 0., 0., 0., 0., 0., 0., 0., 0., 0., 0.,\\n       0., 0., 0., 0., 0., 0., 0., 0., 0., 0., 0., 0., 0., 0., 0., 0., 0.,\\n       0., 0., 0., 0., 0., 0., 0., 0., 0., 0., 0., 0., 0., 0., 0., 0., 0.,\\n       0., 0., 0., 0., 0., 0., 0., 0., 0., 0., 0., 0., 0., 0., 0., 0., 0.,\\n       0., 0., 0., 0., 0., 0., 0., 0., 0., 0., 0., 0., 0., 0., 0., 0., 0.,\\n       0., 0., 0., 0., 0., 0., 0., 0., 0., 0., 0., 0., 0., 0., 0., 0., 0.,\\n       0., 0., 0., 0., 0., 0., 0., 0., 0., 0., 0., 0., 0., 0., 0., 0., 0.,\\n       0., 1., 1., 1., 1., 1., 1., 1., 1., 1., 1., 1., 1., 1., 1., 1., 1.,\\n       1., 1., 1., 1., 1., 1., 1., 1., 1., 1., 1., 1., 1., 1., 1., 1., 1.,\\n       1., 1., 1., 1., 1., 1., 1., 1., 1., 1., 1., 1., 1., 1., 1., 1., 1.,\\n       1., 1., 1., 1., 1., 1., 1., 1., 1., 1., 1., 1., 1., 1., 1., 1., 1.,\\n       1., 1., 1., 1., 1., 1., 1., 1., 1., 0., 0., 0., 0., 0., 0., 0., 0.,\\n       0., 0., 0., 0., 0., 0., 0., 0., 0., 0., 0., 0., 0., 0., 0., 0., 0.,\\n       0., 0., 0., 0., 0., 0., 0., 0., 0., 0., 0., 0., 0., 0., 0., 0., 0.,\\n       0., 0., 0., 0., 0., 0., 0., 0., 0., 0., 0., 0., 0., 0., 0., 0., 0.,\\n       0., 0., 0., 0., 0., 0., 0., 0., 0., 0., 0., 0., 0., 0., 0., 0., 0.,\\n       0., 0., 0., 0., 0., 0., 0., 0., 0., 0., 0., 0., 0., 0., 0., 0., 0.,\\n       0., 0., 0., 0., 0., 0., 0., 0., 0., 0., 0., 0., 0., 0., 0., 0., 0.,\\n       0., 0., 0., 0., 0., 0., 0., 0., 0., 0., 0., 0., 0., 0., 0., 0., 0.,\\n       0., 0., 0., 0., 0., 0., 0., 0., 0., 0., 0., 0., 0., 0., 0., 0., 0.,\\n       0., 0., 0., 0., 0., 0., 0., 0., 0., 0., 0., 0., 0., 0., 0., 0., 0.,\\n       0., 0., 0.])', Fraction(1, 180))),\n",
                                          " ProbLidarMask(('array([0., 0., 0., 0., 0., 0., 0., 0., 0., 0., 0., 0., 0., 0., 0., 0., 0.,\\n       0., 0., 0., 0., 0., 0., 0., 0., 0., 0., 0., 0., 0., 0., 0., 0., 0.,\\n       0., 0., 0., 0., 0., 0., 0., 0., 0., 0., 0., 0., 0., 0., 0., 0., 0.,\\n       0., 0., 0., 0., 0., 0., 0., 0., 0., 0., 0., 0., 0., 0., 0., 0., 0.,\\n       0., 0., 0., 0., 0., 0., 0., 0., 0., 0., 0., 0., 0., 0., 0., 0., 0.,\\n       0., 0., 0., 0., 0., 0., 0., 0., 0., 0., 0., 0., 0., 0., 0., 0., 0.,\\n       0., 0., 0., 0., 0., 0., 0., 0., 0., 0., 0., 0., 0., 0., 0., 0., 0.,\\n       0., 0., 0., 0., 0., 0., 0., 0., 0., 0., 0., 0., 0., 0., 0., 0., 0.,\\n       0., 0., 0., 0., 0., 0., 0., 0., 0., 0., 0., 0., 0., 0., 1., 1., 1.,\\n       1., 1., 1., 1., 1., 1., 1., 1., 1., 1., 1., 1., 1., 1., 1., 1., 1.,\\n       1., 1., 1., 1., 1., 1., 1., 1., 1., 1., 1., 1., 1., 1., 1., 1., 1.,\\n       1., 1., 1., 1., 1., 1., 1., 1., 1., 1., 1., 1., 1., 1., 1., 1., 1.,\\n       1., 1., 1., 1., 1., 1., 1., 1., 1., 1., 1., 1., 1., 1., 1., 1., 1.,\\n       1., 1., 1., 1., 0., 0., 0., 0., 0., 0., 0., 0., 0., 0., 0., 0., 0.,\\n       0., 0., 0., 0., 0., 0., 0., 0., 0., 0., 0., 0., 0., 0., 0., 0., 0.,\\n       0., 0., 0., 0., 0., 0., 0., 0., 0., 0., 0., 0., 0., 0., 0., 0., 0.,\\n       0., 0., 0., 0., 0., 0., 0., 0., 0., 0., 0., 0., 0., 0., 0., 0., 0.,\\n       0., 0., 0., 0., 0., 0., 0., 0., 0., 0., 0., 0., 0., 0., 0., 0., 0.,\\n       0., 0., 0., 0., 0., 0., 0., 0., 0., 0., 0., 0., 0., 0., 0., 0., 0.,\\n       0., 0., 0., 0., 0., 0., 0., 0., 0., 0., 0., 0., 0., 0., 0., 0., 0.,\\n       0., 0., 0., 0., 0., 0., 0., 0., 0., 0., 0., 0., 0., 0., 0., 0., 0.,\\n       0., 0., 0.])', Fraction(1, 180))),\n",
                                          " ProbLidarMask(('array([0., 0., 0., 0., 0., 0., 0., 0., 0., 0., 0., 0., 0., 0., 0., 0., 0.,\\n       0., 0., 0., 0., 0., 0., 0., 0., 0., 0., 0., 0., 0., 0., 0., 0., 0.,\\n       0., 0., 0., 0., 0., 0., 0., 0., 0., 0., 0., 0., 0., 0., 0., 0., 0.,\\n       0., 0., 0., 0., 0., 0., 0., 0., 0., 0., 0., 0., 0., 0., 0., 0., 0.,\\n       0., 0., 0., 0., 0., 0., 0., 0., 0., 0., 0., 0., 0., 0., 0., 0., 0.,\\n       0., 0., 0., 0., 0., 0., 0., 0., 0., 0., 0., 0., 0., 0., 0., 0., 0.,\\n       0., 0., 0., 0., 0., 0., 0., 0., 0., 0., 0., 0., 0., 0., 0., 0., 0.,\\n       0., 0., 0., 0., 0., 0., 0., 0., 0., 0., 0., 0., 0., 0., 0., 0., 0.,\\n       0., 0., 0., 0., 0., 0., 0., 0., 0., 0., 0., 0., 0., 0., 0., 0., 0.,\\n       0., 0., 0., 0., 0., 0., 0., 0., 0., 0., 0., 0., 0., 0., 0., 0., 0.,\\n       0., 0., 0., 0., 0., 0., 0., 0., 0., 0., 1., 1., 1., 1., 1., 1., 1.,\\n       1., 1., 1., 1., 1., 1., 1., 1., 1., 1., 1., 1., 1., 1., 1., 1., 1.,\\n       1., 1., 1., 1., 1., 1., 1., 1., 1., 1., 1., 1., 1., 1., 1., 1., 1.,\\n       1., 1., 1., 1., 1., 1., 1., 1., 1., 1., 1., 1., 1., 1., 1., 1., 1.,\\n       1., 1., 1., 1., 1., 1., 1., 1., 1., 1., 1., 1., 1., 1., 1., 1., 1.,\\n       0., 0., 0., 0., 0., 0., 0., 0., 0., 0., 0., 0., 0., 0., 0., 0., 0.,\\n       0., 0., 0., 0., 0., 0., 0., 0., 0., 0., 0., 0., 0., 0., 0., 0., 0.,\\n       0., 0., 0., 0., 0., 0., 0., 0., 0., 0., 0., 0., 0., 0., 0., 0., 0.,\\n       0., 0., 0., 0., 0., 0., 0., 0., 0., 0., 0., 0., 0., 0., 0., 0., 0.,\\n       0., 0., 0., 0., 0., 0., 0., 0., 0., 0., 0., 0., 0., 0., 0., 0., 0.,\\n       0., 0., 0., 0., 0., 0., 0., 0., 0., 0., 0., 0., 0., 0., 0., 0., 0.,\\n       0., 0., 0.])', Fraction(1, 180))),\n",
                                          " ProbLidarMask(('array([0., 0., 0., 0., 0., 0., 0., 0., 0., 0., 0., 0., 0., 0., 0., 0., 0.,\\n       0., 0., 0., 0., 0., 0., 0., 0., 0., 0., 0., 0., 0., 0., 0., 0., 0.,\\n       0., 0., 0., 0., 0., 0., 0., 0., 0., 0., 0., 0., 0., 0., 0., 0., 0.,\\n       0., 0., 0., 0., 0., 0., 0., 0., 0., 0., 0., 0., 0., 0., 0., 0., 0.,\\n       0., 0., 0., 0., 0., 0., 0., 0., 0., 0., 0., 0., 0., 0., 0., 0., 0.,\\n       0., 0., 0., 0., 0., 0., 0., 0., 0., 0., 0., 0., 0., 0., 0., 0., 0.,\\n       0., 0., 0., 0., 0., 0., 0., 0., 0., 0., 0., 0., 0., 0., 0., 0., 0.,\\n       0., 0., 0., 0., 0., 0., 0., 0., 0., 0., 0., 0., 0., 0., 0., 0., 0.,\\n       0., 0., 0., 0., 0., 0., 0., 0., 0., 0., 0., 0., 0., 0., 0., 0., 0.,\\n       0., 0., 0., 0., 0., 0., 0., 0., 0., 0., 0., 0., 0., 0., 0., 0., 0.,\\n       0., 0., 0., 0., 0., 0., 0., 0., 0., 0., 0., 0., 0., 0., 0., 0., 0.,\\n       0., 0., 0., 0., 0., 0., 0., 0., 0., 0., 0., 0., 0., 0., 0., 0., 0.,\\n       0., 0., 0., 0., 0., 0., 1., 1., 1., 1., 1., 1., 1., 1., 1., 1., 1.,\\n       1., 1., 1., 1., 1., 1., 1., 1., 1., 1., 1., 1., 1., 1., 1., 1., 1.,\\n       1., 1., 1., 1., 1., 1., 1., 1., 1., 1., 1., 1., 1., 1., 1., 1., 1.,\\n       1., 1., 1., 1., 1., 1., 1., 1., 1., 1., 1., 1., 1., 1., 1., 1., 1.,\\n       1., 1., 1., 1., 1., 1., 1., 1., 1., 1., 1., 1., 1., 0., 0., 0., 0.,\\n       0., 0., 0., 0., 0., 0., 0., 0., 0., 0., 0., 0., 0., 0., 0., 0., 0.,\\n       0., 0., 0., 0., 0., 0., 0., 0., 0., 0., 0., 0., 0., 0., 0., 0., 0.,\\n       0., 0., 0., 0., 0., 0., 0., 0., 0., 0., 0., 0., 0., 0., 0., 0., 0.,\\n       0., 0., 0., 0., 0., 0., 0., 0., 0., 0., 0., 0., 0., 0., 0., 0., 0.,\\n       0., 0., 0.])', Fraction(1, 180))),\n",
                                          " ProbLidarMask(('array([0., 0., 0., 0., 0., 0., 0., 0., 0., 0., 0., 0., 0., 0., 0., 0., 0.,\\n       0., 0., 0., 0., 0., 0., 0., 0., 0., 0., 0., 0., 0., 0., 0., 0., 0.,\\n       0., 0., 0., 0., 0., 0., 0., 0., 0., 0., 0., 0., 0., 0., 0., 0., 0.,\\n       0., 0., 0., 0., 0., 0., 0., 0., 0., 0., 0., 0., 0., 0., 0., 0., 0.,\\n       0., 0., 0., 0., 0., 0., 0., 0., 0., 0., 0., 0., 0., 0., 0., 0., 0.,\\n       0., 0., 0., 0., 0., 0., 0., 0., 0., 0., 0., 0., 0., 0., 0., 0., 0.,\\n       0., 0., 0., 0., 0., 0., 0., 0., 0., 0., 0., 0., 0., 0., 0., 0., 0.,\\n       0., 0., 0., 0., 0., 0., 0., 0., 0., 0., 0., 0., 0., 0., 0., 0., 0.,\\n       0., 0., 0., 0., 0., 0., 0., 0., 0., 0., 0., 0., 0., 0., 0., 0., 0.,\\n       0., 0., 0., 0., 0., 0., 0., 0., 0., 0., 0., 0., 0., 0., 0., 0., 0.,\\n       0., 0., 0., 0., 0., 0., 0., 0., 0., 0., 0., 0., 0., 0., 0., 0., 0.,\\n       0., 0., 0., 0., 0., 0., 0., 0., 0., 0., 0., 0., 0., 0., 0., 0., 0.,\\n       0., 0., 0., 0., 0., 0., 0., 0., 0., 0., 0., 0., 0., 0., 0., 0., 0.,\\n       0., 0., 0., 0., 0., 0., 0., 0., 0., 0., 0., 0., 0., 0., 0., 0., 0.,\\n       0., 0., 1., 1., 1., 1., 1., 1., 1., 1., 1., 1., 1., 1., 1., 1., 1.,\\n       1., 1., 1., 1., 1., 1., 1., 1., 1., 1., 1., 1., 1., 1., 1., 1., 1.,\\n       1., 1., 1., 1., 1., 1., 1., 1., 1., 1., 1., 1., 1., 1., 1., 1., 1.,\\n       1., 1., 1., 1., 1., 1., 1., 1., 1., 1., 1., 1., 1., 1., 1., 1., 1.,\\n       1., 1., 1., 1., 1., 1., 1., 1., 1., 0., 0., 0., 0., 0., 0., 0., 0.,\\n       0., 0., 0., 0., 0., 0., 0., 0., 0., 0., 0., 0., 0., 0., 0., 0., 0.,\\n       0., 0., 0., 0., 0., 0., 0., 0., 0., 0., 0., 0., 0., 0., 0., 0., 0.,\\n       0., 0., 0.])', Fraction(1, 180))),\n",
                                          " ProbLidarMask(('array([0., 0., 0., 0., 0., 0., 0., 0., 0., 0., 0., 0., 0., 0., 0., 0., 0.,\\n       0., 0., 0., 0., 0., 0., 0., 0., 0., 0., 0., 0., 0., 0., 0., 0., 0.,\\n       0., 0., 0., 0., 0., 0., 0., 0., 0., 0., 0., 0., 0., 0., 0., 0., 0.,\\n       0., 0., 0., 0., 0., 0., 0., 0., 0., 0., 0., 0., 0., 0., 0., 0., 0.,\\n       0., 0., 0., 0., 0., 0., 0., 0., 0., 0., 0., 0., 0., 0., 0., 0., 0.,\\n       0., 0., 0., 0., 0., 0., 0., 0., 0., 0., 0., 0., 0., 0., 0., 0., 0.,\\n       0., 0., 0., 0., 0., 0., 0., 0., 0., 0., 0., 0., 0., 0., 0., 0., 0.,\\n       0., 0., 0., 0., 0., 0., 0., 0., 0., 0., 0., 0., 0., 0., 0., 0., 0.,\\n       0., 0., 0., 0., 0., 0., 0., 0., 0., 0., 0., 0., 0., 0., 0., 0., 0.,\\n       0., 0., 0., 0., 0., 0., 0., 0., 0., 0., 0., 0., 0., 0., 0., 0., 0.,\\n       0., 0., 0., 0., 0., 0., 0., 0., 0., 0., 0., 0., 0., 0., 0., 0., 0.,\\n       0., 0., 0., 0., 0., 0., 0., 0., 0., 0., 0., 0., 0., 0., 0., 0., 0.,\\n       0., 0., 0., 0., 0., 0., 0., 0., 0., 0., 0., 0., 0., 0., 0., 0., 0.,\\n       0., 0., 0., 0., 0., 0., 0., 0., 0., 0., 0., 0., 0., 0., 0., 0., 0.,\\n       0., 0., 0., 0., 0., 0., 0., 0., 0., 0., 0., 0., 0., 0., 0., 0., 0.,\\n       0., 0., 0., 0., 0., 0., 0., 0., 0., 0., 0., 0., 0., 0., 0., 1., 1.,\\n       1., 1., 1., 1., 1., 1., 1., 1., 1., 1., 1., 1., 1., 1., 1., 1., 1.,\\n       1., 1., 1., 1., 1., 1., 1., 1., 1., 1., 1., 1., 1., 1., 1., 1., 1.,\\n       1., 1., 1., 1., 1., 1., 1., 1., 1., 1., 1., 1., 1., 1., 1., 1., 1.,\\n       1., 1., 1., 1., 1., 1., 1., 1., 1., 1., 1., 1., 1., 1., 1., 1., 1.,\\n       1., 1., 1., 1., 1., 0., 0., 0., 0., 0., 0., 0., 0., 0., 0., 0., 0.,\\n       0., 0., 0.])', Fraction(1, 180))),\n",
                                          " ProbLidarMask(('array([0., 0., 0., 0., 0., 0., 0., 0., 0., 0., 0., 0., 0., 0., 0., 0., 0.,\\n       0., 0., 0., 0., 0., 0., 0., 0., 0., 0., 0., 0., 0., 0., 0., 0., 0.,\\n       0., 0., 0., 0., 0., 0., 0., 0., 0., 0., 0., 0., 0., 0., 0., 0., 0.,\\n       0., 0., 0., 0., 0., 0., 0., 0., 0., 0., 0., 0., 0., 0., 0., 0., 0.,\\n       0., 0., 0., 0., 0., 0., 0., 0., 0., 0., 0., 0., 0., 0., 0., 0., 0.,\\n       0., 0., 0., 0., 0., 0., 0., 0., 0., 0., 0., 0., 0., 0., 0., 0., 0.,\\n       0., 0., 0., 0., 0., 0., 0., 0., 0., 0., 0., 0., 0., 0., 0., 0., 0.,\\n       0., 0., 0., 0., 0., 0., 0., 0., 0., 0., 0., 0., 0., 0., 0., 0., 0.,\\n       0., 0., 0., 0., 0., 0., 0., 0., 0., 0., 0., 0., 0., 0., 0., 0., 0.,\\n       0., 0., 0., 0., 0., 0., 0., 0., 0., 0., 0., 0., 0., 0., 0., 0., 0.,\\n       0., 0., 0., 0., 0., 0., 0., 0., 0., 0., 0., 0., 0., 0., 0., 0., 0.,\\n       0., 0., 0., 0., 0., 0., 0., 0., 0., 0., 0., 0., 0., 0., 0., 0., 0.,\\n       0., 0., 0., 0., 0., 0., 0., 0., 0., 0., 0., 0., 0., 0., 0., 0., 0.,\\n       0., 0., 0., 0., 0., 0., 0., 0., 0., 0., 0., 0., 0., 0., 0., 0., 0.,\\n       0., 0., 0., 0., 0., 0., 0., 0., 0., 0., 0., 0., 0., 0., 0., 0., 0.,\\n       0., 0., 0., 0., 0., 0., 0., 0., 0., 0., 0., 0., 0., 0., 0., 0., 0.,\\n       0., 0., 0., 0., 0., 0., 0., 0., 0., 0., 0., 0., 0., 0., 0., 0., 0.,\\n       0., 0., 0., 0., 0., 0., 0., 0., 0., 0., 0., 1., 1., 1., 1., 1., 1.,\\n       1., 1., 1., 1., 1., 1., 1., 1., 1., 1., 1., 1., 1., 1., 1., 1., 1.,\\n       1., 1., 1., 1., 1., 1., 1., 1., 1., 1., 1., 1., 1., 1., 1., 1., 1.,\\n       1., 1., 1., 1., 1., 1., 1., 1., 1., 1., 1., 1., 1., 1., 1., 1., 1.,\\n       1., 1., 1.])', Fraction(1, 180))),\n",
                                          " ProbLidarMask(('array([0., 0., 0., 0., 0., 0., 0., 0., 0., 0., 0., 0., 0., 0., 0., 0., 0.,\\n       0., 0., 0., 0., 0., 0., 0., 0., 0., 0., 0., 0., 0., 0., 0., 0., 0.,\\n       0., 0., 0., 0., 0., 0., 0., 0., 0., 0., 0., 0., 0., 0., 0., 0., 0.,\\n       0., 0., 0., 0., 0., 0., 0., 0., 0., 0., 0., 0., 0., 0., 0., 0., 0.,\\n       0., 0., 0., 0., 0., 0., 0., 0., 0., 0., 0., 0., 0., 0., 0., 0., 0.,\\n       0., 0., 0., 0., 0., 0., 0., 0., 0., 0., 0., 0., 0., 0., 0., 0., 0.,\\n       0., 0., 0., 0., 0., 0., 0., 0., 0., 0., 0., 0., 0., 0., 0., 0., 0.,\\n       0., 0., 0., 0., 0., 0., 0., 0., 0., 0., 0., 0., 0., 0., 0., 0., 0.,\\n       0., 0., 0., 0., 0., 0., 0., 0., 0., 0., 0., 0., 0., 0., 0., 0., 0.,\\n       0., 0., 0., 0., 0., 0., 0., 0., 0., 0., 0., 0., 0., 0., 0., 0., 0.,\\n       0., 0., 0., 0., 0., 0., 0., 0., 0., 0., 0., 0., 0., 0., 0., 0., 0.,\\n       0., 0., 0., 0., 0., 0., 0., 0., 0., 0., 0., 0., 0., 0., 0., 0., 0.,\\n       0., 0., 0., 0., 0., 0., 0., 0., 0., 0., 0., 0., 0., 0., 0., 0., 0.,\\n       0., 0., 0., 0., 0., 0., 0., 0., 0., 0., 0., 0., 0., 0., 0., 0., 0.,\\n       0., 0., 0., 0., 0., 0., 0., 0., 0., 0., 0., 0., 0., 0., 0., 0., 0.,\\n       0., 0., 0., 0., 0., 0., 0., 0., 0., 0., 0., 0., 0., 0., 0., 0., 0.,\\n       0., 0., 0., 0., 0., 0., 0., 0., 0., 0., 0., 0., 0., 0., 0., 0., 0.,\\n       0., 0., 0., 0., 0., 0., 0., 0., 0., 0., 0., 0., 0., 0., 0., 0., 0.,\\n       0., 0., 0., 0., 0., 0., 0., 0., 0., 0., 0., 0., 0., 0., 0., 0., 0.,\\n       0., 0., 0., 0., 0., 0., 0., 1., 1., 1., 1., 1., 1., 1., 1., 1., 1.,\\n       1., 1., 1., 1., 1., 1., 1., 1., 1., 1., 1., 1., 1., 1., 1., 1., 1.,\\n       1., 1., 1.])', Fraction(1, 180)))]"
                                    ]
                              },
                              "execution_count": 31,
                              "metadata": {},
                              "output_type": "execute_result"
                        }
                  ],
                  "source": [
                        "ps = [\n",
                        "    m.prob_mask\n",
                        "        for m in ms\n",
                        "]\n",
                        "ps"
                  ]
            },
            {
                  "cell_type": "code",
                  "execution_count": 32,
                  "metadata": {},
                  "outputs": [
                        {
                              "data": {
                                    "text/plain": [
                                          "BoolLidarMask([[Fraction(0, 1),Fraction(1, 6)), [Fraction(7, 12),Fraction(2, 1))], 1/180)"
                                    ]
                              },
                              "execution_count": 32,
                              "metadata": {},
                              "output_type": "execute_result"
                        }
                  ],
                  "source": [
                        "ps[1] >= 0.8"
                  ]
            },
            {
                  "cell_type": "code",
                  "execution_count": 33,
                  "metadata": {},
                  "outputs": [
                        {
                              "name": "stderr",
                              "output_type": "stream",
                              "text": [
                                    "/tmp/ipykernel_13139/3775472394.py:3: UserWarning: FigureCanvasAgg is non-interactive, and thus cannot be shown\n",
                                    "  plt.show()\n",
                                    "/tmp/ipykernel_13139/3775472394.py:3: UserWarning: FigureCanvasAgg is non-interactive, and thus cannot be shown\n",
                                    "  plt.show()\n",
                                    "/tmp/ipykernel_13139/3775472394.py:3: UserWarning: FigureCanvasAgg is non-interactive, and thus cannot be shown\n",
                                    "  plt.show()\n",
                                    "/tmp/ipykernel_13139/3775472394.py:3: UserWarning: FigureCanvasAgg is non-interactive, and thus cannot be shown\n",
                                    "  plt.show()\n",
                                    "/tmp/ipykernel_13139/3775472394.py:3: UserWarning: FigureCanvasAgg is non-interactive, and thus cannot be shown\n",
                                    "  plt.show()\n",
                                    "/tmp/ipykernel_13139/3775472394.py:3: UserWarning: FigureCanvasAgg is non-interactive, and thus cannot be shown\n",
                                    "  plt.show()\n",
                                    "/tmp/ipykernel_13139/3775472394.py:3: UserWarning: FigureCanvasAgg is non-interactive, and thus cannot be shown\n",
                                    "  plt.show()\n",
                                    "/tmp/ipykernel_13139/3775472394.py:3: UserWarning: FigureCanvasAgg is non-interactive, and thus cannot be shown\n",
                                    "  plt.show()\n",
                                    "/tmp/ipykernel_13139/3775472394.py:3: UserWarning: FigureCanvasAgg is non-interactive, and thus cannot be shown\n",
                                    "  plt.show()\n",
                                    "/tmp/ipykernel_13139/3775472394.py:3: UserWarning: FigureCanvasAgg is non-interactive, and thus cannot be shown\n",
                                    "  plt.show()\n",
                                    "/tmp/ipykernel_13139/3775472394.py:3: UserWarning: FigureCanvasAgg is non-interactive, and thus cannot be shown\n",
                                    "  plt.show()\n",
                                    "/tmp/ipykernel_13139/3775472394.py:3: UserWarning: FigureCanvasAgg is non-interactive, and thus cannot be shown\n",
                                    "  plt.show()\n"
                              ]
                        }
                  ],
                  "source": [
                        "for p in ps:\n",
                        "    (p >= 0.9).plot()\n",
                        "    plt.show()"
                  ]
            },
            {
                  "cell_type": "code",
                  "execution_count": 34,
                  "metadata": {},
                  "outputs": [
                        {
                              "data": {
                                    "text/plain": [
                                          "[ProbLidarMask(('array([0., 0., 0., 0., 0., 0., 0., 0., 0., 0., 0., 0., 0., 0., 0., 0., 0.,\\n       0., 0., 0., 0., 0., 0., 0., 0., 0., 0., 0., 0., 0., 1., 1., 1., 1.,\\n       1., 1., 1., 1., 1., 1., 1., 1., 1., 1., 1., 1., 1., 1., 1., 1., 1.,\\n       1., 1., 1., 1., 1., 1., 1., 1., 1., 1., 1., 1., 1., 1., 1., 1., 1.,\\n       1., 1., 1., 1., 1., 1., 1., 1., 1., 1., 1., 1., 1., 1., 1., 1., 1.,\\n       1., 1., 1., 1., 1., 1., 1., 1., 1., 1., 1., 1., 1., 1., 1., 1., 1.,\\n       1., 1., 1., 0., 0., 0., 0., 0., 0., 0., 0., 0., 0., 0., 0., 0., 0.,\\n       0., 0., 0., 0., 0., 0., 0., 0., 0., 0., 0., 0., 0., 0., 0., 0., 0.,\\n       0., 0., 0., 0., 0., 0., 0., 0., 0., 0., 0., 0., 0., 0., 0., 0., 0.,\\n       0., 0., 0., 0., 0., 0., 0., 0., 0., 0., 0., 0., 0., 0., 0., 0., 0.,\\n       0., 0., 0., 0., 0., 0., 0., 0., 0., 0., 0., 0., 0., 0., 0., 0., 0.,\\n       0., 0., 0., 0., 0., 0., 0., 0., 0., 0., 0., 0., 0., 0., 0., 0., 0.,\\n       0., 0., 0., 0., 0., 0., 0., 0., 0., 0., 0., 0., 0., 0., 0., 0., 0.,\\n       0., 0., 0., 0., 0., 0., 0., 0., 0., 0., 0., 0., 0., 0., 0., 0., 0.,\\n       0., 0., 0., 0., 0., 0., 0., 0., 0., 0., 0., 0., 0., 0., 0., 0., 0.,\\n       0., 0., 0., 0., 0., 0., 0., 0., 0., 0., 0., 0., 0., 0., 0., 0., 0.,\\n       0., 0., 0., 0., 0., 0., 0., 0., 0., 0., 0., 0., 0., 0., 0., 0., 0.,\\n       0., 0., 0., 0., 0., 0., 0., 0., 0., 0., 0., 0., 0., 0., 0., 0., 0.,\\n       0., 0., 0., 0., 0., 0., 0., 0., 0., 0., 0., 0., 0., 0., 0., 0., 0.,\\n       0., 0., 0., 0., 0., 0., 0., 0., 0., 0., 0., 0., 0., 0., 0., 0., 0.,\\n       0., 0., 0., 0., 0., 0., 0., 0., 0., 0., 0., 0., 0., 0., 0., 0., 0.,\\n       0., 0., 0.])', Fraction(1, 180))),\n",
                                          " ProbLidarMask(('array([0., 0., 0., 0., 0., 0., 0., 0., 0., 0., 0., 0., 0., 0., 0., 0., 0.,\\n       0., 0., 0., 0., 0., 0., 0., 0., 0., 0., 0., 0., 0., 0., 0., 0., 0.,\\n       0., 0., 0., 0., 0., 0., 0., 0., 0., 0., 0., 0., 0., 0., 0., 0., 0.,\\n       0., 0., 0., 0., 0., 0., 0., 0., 0., 1., 1., 1., 1., 1., 1., 1., 1.,\\n       1., 1., 1., 1., 1., 1., 1., 1., 1., 1., 1., 1., 1., 1., 1., 1., 1.,\\n       1., 1., 1., 1., 1., 1., 1., 1., 1., 1., 1., 1., 1., 1., 1., 1., 1.,\\n       1., 1., 1., 1., 1., 1., 1., 1., 1., 1., 1., 1., 1., 1., 1., 1., 1.,\\n       1., 1., 1., 1., 1., 1., 1., 1., 1., 1., 1., 1., 1., 1., 1., 1., 0.,\\n       0., 0., 0., 0., 0., 0., 0., 0., 0., 0., 0., 0., 0., 0., 0., 0., 0.,\\n       0., 0., 0., 0., 0., 0., 0., 0., 0., 0., 0., 0., 0., 0., 0., 0., 0.,\\n       0., 0., 0., 0., 0., 0., 0., 0., 0., 0., 0., 0., 0., 0., 0., 0., 0.,\\n       0., 0., 0., 0., 0., 0., 0., 0., 0., 0., 0., 0., 0., 0., 0., 0., 0.,\\n       0., 0., 0., 0., 0., 0., 0., 0., 0., 0., 0., 0., 0., 0., 0., 0., 0.,\\n       0., 0., 0., 0., 0., 0., 0., 0., 0., 0., 0., 0., 0., 0., 0., 0., 0.,\\n       0., 0., 0., 0., 0., 0., 0., 0., 0., 0., 0., 0., 0., 0., 0., 0., 0.,\\n       0., 0., 0., 0., 0., 0., 0., 0., 0., 0., 0., 0., 0., 0., 0., 0., 0.,\\n       0., 0., 0., 0., 0., 0., 0., 0., 0., 0., 0., 0., 0., 0., 0., 0., 0.,\\n       0., 0., 0., 0., 0., 0., 0., 0., 0., 0., 0., 0., 0., 0., 0., 0., 0.,\\n       0., 0., 0., 0., 0., 0., 0., 0., 0., 0., 0., 0., 0., 0., 0., 0., 0.,\\n       0., 0., 0., 0., 0., 0., 0., 0., 0., 0., 0., 0., 0., 0., 0., 0., 0.,\\n       0., 0., 0., 0., 0., 0., 0., 0., 0., 0., 0., 0., 0., 0., 0., 0., 0.,\\n       0., 0., 0.])', Fraction(1, 180))),\n",
                                          " ProbLidarMask(('array([0., 0., 0., 0., 0., 0., 0., 0., 0., 0., 0., 0., 0., 0., 0., 0., 0.,\\n       0., 0., 0., 0., 0., 0., 0., 0., 0., 0., 0., 0., 0., 0., 0., 0., 0.,\\n       0., 0., 0., 0., 0., 0., 0., 0., 0., 0., 0., 0., 0., 0., 0., 0., 0.,\\n       0., 0., 0., 0., 0., 0., 0., 0., 0., 0., 0., 0., 0., 0., 0., 0., 0.,\\n       0., 0., 0., 0., 0., 0., 0., 0., 0., 0., 0., 0., 0., 0., 0., 0., 0.,\\n       0., 0., 0., 0., 0., 1., 1., 1., 1., 1., 1., 1., 1., 1., 1., 1., 1.,\\n       1., 1., 1., 1., 1., 1., 1., 1., 1., 1., 1., 1., 1., 1., 1., 1., 1.,\\n       1., 1., 1., 1., 1., 1., 1., 1., 1., 1., 1., 1., 1., 1., 1., 1., 1.,\\n       1., 1., 1., 1., 1., 1., 1., 1., 1., 1., 1., 1., 1., 1., 1., 1., 1.,\\n       1., 1., 1., 1., 1., 1., 1., 1., 1., 1., 1., 1., 0., 0., 0., 0., 0.,\\n       0., 0., 0., 0., 0., 0., 0., 0., 0., 0., 0., 0., 0., 0., 0., 0., 0.,\\n       0., 0., 0., 0., 0., 0., 0., 0., 0., 0., 0., 0., 0., 0., 0., 0., 0.,\\n       0., 0., 0., 0., 0., 0., 0., 0., 0., 0., 0., 0., 0., 0., 0., 0., 0.,\\n       0., 0., 0., 0., 0., 0., 0., 0., 0., 0., 0., 0., 0., 0., 0., 0., 0.,\\n       0., 0., 0., 0., 0., 0., 0., 0., 0., 0., 0., 0., 0., 0., 0., 0., 0.,\\n       0., 0., 0., 0., 0., 0., 0., 0., 0., 0., 0., 0., 0., 0., 0., 0., 0.,\\n       0., 0., 0., 0., 0., 0., 0., 0., 0., 0., 0., 0., 0., 0., 0., 0., 0.,\\n       0., 0., 0., 0., 0., 0., 0., 0., 0., 0., 0., 0., 0., 0., 0., 0., 0.,\\n       0., 0., 0., 0., 0., 0., 0., 0., 0., 0., 0., 0., 0., 0., 0., 0., 0.,\\n       0., 0., 0., 0., 0., 0., 0., 0., 0., 0., 0., 0., 0., 0., 0., 0., 0.,\\n       0., 0., 0., 0., 0., 0., 0., 0., 0., 0., 0., 0., 0., 0., 0., 0., 0.,\\n       0., 0., 0.])', Fraction(1, 180)))]"
                                    ]
                              },
                              "execution_count": 34,
                              "metadata": {},
                              "output_type": "execute_result"
                        }
                  ],
                  "source": [
                        "ps[1:4]"
                  ]
            },
            {
                  "cell_type": "code",
                  "execution_count": 35,
                  "metadata": {},
                  "outputs": [
                        {
                              "data": {
                                    "text/plain": [
                                          "ProbLidarMask(('array([0.        , 0.        , 0.        , 0.        , 0.        ,\\n       0.        , 0.        , 0.        , 0.        , 0.        ,\\n       0.        , 0.        , 0.        , 0.        , 0.        ,\\n       0.        , 0.        , 0.        , 0.        , 0.        ,\\n       0.        , 0.        , 0.        , 0.        , 0.        ,\\n       0.        , 0.        , 0.        , 0.        , 0.        ,\\n       0.33333333, 0.33333333, 0.33333333, 0.33333333, 0.33333333,\\n       0.33333333, 0.33333333, 0.33333333, 0.33333333, 0.33333333,\\n       0.33333333, 0.33333333, 0.33333333, 0.33333333, 0.33333333,\\n       0.33333333, 0.33333333, 0.33333333, 0.33333333, 0.33333333,\\n       0.33333333, 0.33333333, 0.33333333, 0.33333333, 0.33333333,\\n       0.33333333, 0.33333333, 0.33333333, 0.33333333, 0.33333333,\\n       0.66666667, 0.66666667, 0.66666667, 0.66666667, 0.66666667,\\n       0.66666667, 0.66666667, 0.66666667, 0.66666667, 0.66666667,\\n       0.66666667, 0.66666667, 0.66666667, 0.66666667, 0.66666667,\\n       0.66666667, 0.66666667, 0.66666667, 0.66666667, 0.66666667,\\n       0.66666667, 0.66666667, 0.66666667, 0.66666667, 0.66666667,\\n       0.66666667, 0.66666667, 0.66666667, 0.66666667, 0.66666667,\\n       1.        , 1.        , 1.        , 1.        , 1.        ,\\n       1.        , 1.        , 1.        , 1.        , 1.        ,\\n       1.        , 1.        , 1.        , 1.        , 1.        ,\\n       0.66666667, 0.66666667, 0.66666667, 0.66666667, 0.66666667,\\n       0.66666667, 0.66666667, 0.66666667, 0.66666667, 0.66666667,\\n       0.66666667, 0.66666667, 0.66666667, 0.66666667, 0.66666667,\\n       0.66666667, 0.66666667, 0.66666667, 0.66666667, 0.66666667,\\n       0.66666667, 0.66666667, 0.66666667, 0.66666667, 0.66666667,\\n       0.66666667, 0.66666667, 0.66666667, 0.66666667, 0.66666667,\\n       0.33333333, 0.33333333, 0.33333333, 0.33333333, 0.33333333,\\n       0.33333333, 0.33333333, 0.33333333, 0.33333333, 0.33333333,\\n       0.33333333, 0.33333333, 0.33333333, 0.33333333, 0.33333333,\\n       0.33333333, 0.33333333, 0.33333333, 0.33333333, 0.33333333,\\n       0.33333333, 0.33333333, 0.33333333, 0.33333333, 0.33333333,\\n       0.33333333, 0.33333333, 0.33333333, 0.33333333, 0.33333333,\\n       0.        , 0.        , 0.        , 0.        , 0.        ,\\n       0.        , 0.        , 0.        , 0.        , 0.        ,\\n       0.        , 0.        , 0.        , 0.        , 0.        ,\\n       0.        , 0.        , 0.        , 0.        , 0.        ,\\n       0.        , 0.        , 0.        , 0.        , 0.        ,\\n       0.        , 0.        , 0.        , 0.        , 0.        ,\\n       0.        , 0.        , 0.        , 0.        , 0.        ,\\n       0.        , 0.        , 0.        , 0.        , 0.        ,\\n       0.        , 0.        , 0.        , 0.        , 0.        ,\\n       0.        , 0.        , 0.        , 0.        , 0.        ,\\n       0.        , 0.        , 0.        , 0.        , 0.        ,\\n       0.        , 0.        , 0.        , 0.        , 0.        ,\\n       0.        , 0.        , 0.        , 0.        , 0.        ,\\n       0.        , 0.        , 0.        , 0.        , 0.        ,\\n       0.        , 0.        , 0.        , 0.        , 0.        ,\\n       0.        , 0.        , 0.        , 0.        , 0.        ,\\n       0.        , 0.        , 0.        , 0.        , 0.        ,\\n       0.        , 0.        , 0.        , 0.        , 0.        ,\\n       0.        , 0.        , 0.        , 0.        , 0.        ,\\n       0.        , 0.        , 0.        , 0.        , 0.        ,\\n       0.        , 0.        , 0.        , 0.        , 0.        ,\\n       0.        , 0.        , 0.        , 0.        , 0.        ,\\n       0.        , 0.        , 0.        , 0.        , 0.        ,\\n       0.        , 0.        , 0.        , 0.        , 0.        ,\\n       0.        , 0.        , 0.        , 0.        , 0.        ,\\n       0.        , 0.        , 0.        , 0.        , 0.        ,\\n       0.        , 0.        , 0.        , 0.        , 0.        ,\\n       0.        , 0.        , 0.        , 0.        , 0.        ,\\n       0.        , 0.        , 0.        , 0.        , 0.        ,\\n       0.        , 0.        , 0.        , 0.        , 0.        ,\\n       0.        , 0.        , 0.        , 0.        , 0.        ,\\n       0.        , 0.        , 0.        , 0.        , 0.        ,\\n       0.        , 0.        , 0.        , 0.        , 0.        ,\\n       0.        , 0.        , 0.        , 0.        , 0.        ,\\n       0.        , 0.        , 0.        , 0.        , 0.        ,\\n       0.        , 0.        , 0.        , 0.        , 0.        ,\\n       0.        , 0.        , 0.        , 0.        , 0.        ,\\n       0.        , 0.        , 0.        , 0.        , 0.        ,\\n       0.        , 0.        , 0.        , 0.        , 0.        ])', Fraction(1, 180)))"
                                    ]
                              },
                              "execution_count": 35,
                              "metadata": {},
                              "output_type": "execute_result"
                        }
                  ],
                  "source": [
                        "(1/3)*sum(ps[1:4], masks.ProbLidarMask.total_mask(0.0))"
                  ]
            },
            {
                  "cell_type": "code",
                  "execution_count": 36,
                  "metadata": {},
                  "outputs": [
                        {
                              "data": {
                                    "text/plain": [
                                          "ProbLidarMask(('array([0.00000000e+00, 0.00000000e+00, 0.00000000e+00, 0.00000000e+00,\\n       0.00000000e+00, 0.00000000e+00, 0.00000000e+00, 0.00000000e+00,\\n       0.00000000e+00, 0.00000000e+00, 0.00000000e+00, 0.00000000e+00,\\n       0.00000000e+00, 0.00000000e+00, 0.00000000e+00, 0.00000000e+00,\\n       0.00000000e+00, 0.00000000e+00, 0.00000000e+00, 0.00000000e+00,\\n       0.00000000e+00, 0.00000000e+00, 0.00000000e+00, 0.00000000e+00,\\n       0.00000000e+00, 0.00000000e+00, 0.00000000e+00, 0.00000000e+00,\\n       0.00000000e+00, 0.00000000e+00, 0.00000000e+00, 0.00000000e+00,\\n       0.00000000e+00, 0.00000000e+00, 0.00000000e+00, 0.00000000e+00,\\n       0.00000000e+00, 0.00000000e+00, 0.00000000e+00, 0.00000000e+00,\\n       0.00000000e+00, 0.00000000e+00, 0.00000000e+00, 0.00000000e+00,\\n       0.00000000e+00, 0.00000000e+00, 0.00000000e+00, 0.00000000e+00,\\n       0.00000000e+00, 0.00000000e+00, 0.00000000e+00, 0.00000000e+00,\\n       0.00000000e+00, 0.00000000e+00, 0.00000000e+00, 0.00000000e+00,\\n       0.00000000e+00, 0.00000000e+00, 0.00000000e+00, 0.00000000e+00,\\n       1.11022302e-16, 1.11022302e-16, 1.11022302e-16, 1.11022302e-16,\\n       1.11022302e-16, 1.11022302e-16, 1.11022302e-16, 1.11022302e-16,\\n       1.11022302e-16, 1.11022302e-16, 1.11022302e-16, 1.11022302e-16,\\n       1.11022302e-16, 1.11022302e-16, 1.11022302e-16, 0.00000000e+00,\\n       0.00000000e+00, 0.00000000e+00, 0.00000000e+00, 0.00000000e+00,\\n       0.00000000e+00, 0.00000000e+00, 0.00000000e+00, 0.00000000e+00,\\n       0.00000000e+00, 0.00000000e+00, 0.00000000e+00, 0.00000000e+00,\\n       0.00000000e+00, 0.00000000e+00, 1.11022302e-16, 1.11022302e-16,\\n       1.11022302e-16, 1.11022302e-16, 1.11022302e-16, 1.11022302e-16,\\n       1.11022302e-16, 1.11022302e-16, 1.11022302e-16, 1.11022302e-16,\\n       1.11022302e-16, 1.11022302e-16, 1.11022302e-16, 1.11022302e-16,\\n       1.11022302e-16, 0.00000000e+00, 0.00000000e+00, 0.00000000e+00,\\n       0.00000000e+00, 0.00000000e+00, 0.00000000e+00, 0.00000000e+00,\\n       0.00000000e+00, 0.00000000e+00, 0.00000000e+00, 0.00000000e+00,\\n       0.00000000e+00, 0.00000000e+00, 0.00000000e+00, 0.00000000e+00,\\n       1.11022302e-16, 1.11022302e-16, 1.11022302e-16, 1.11022302e-16,\\n       1.11022302e-16, 1.11022302e-16, 1.11022302e-16, 1.11022302e-16,\\n       1.11022302e-16, 1.11022302e-16, 1.11022302e-16, 1.11022302e-16,\\n       1.11022302e-16, 1.11022302e-16, 1.11022302e-16, 0.00000000e+00,\\n       0.00000000e+00, 0.00000000e+00, 0.00000000e+00, 0.00000000e+00,\\n       0.00000000e+00, 0.00000000e+00, 0.00000000e+00, 0.00000000e+00,\\n       0.00000000e+00, 0.00000000e+00, 0.00000000e+00, 0.00000000e+00,\\n       0.00000000e+00, 0.00000000e+00, 1.11022302e-16, 1.11022302e-16,\\n       1.11022302e-16, 1.11022302e-16, 1.11022302e-16, 1.11022302e-16,\\n       1.11022302e-16, 1.11022302e-16, 1.11022302e-16, 1.11022302e-16,\\n       1.11022302e-16, 1.11022302e-16, 1.11022302e-16, 1.11022302e-16,\\n       1.11022302e-16, 0.00000000e+00, 0.00000000e+00, 0.00000000e+00,\\n       0.00000000e+00, 0.00000000e+00, 0.00000000e+00, 0.00000000e+00,\\n       0.00000000e+00, 0.00000000e+00, 0.00000000e+00, 0.00000000e+00,\\n       0.00000000e+00, 0.00000000e+00, 0.00000000e+00, 0.00000000e+00,\\n       1.11022302e-16, 1.11022302e-16, 1.11022302e-16, 1.11022302e-16,\\n       1.11022302e-16, 1.11022302e-16, 1.11022302e-16, 1.11022302e-16,\\n       1.11022302e-16, 1.11022302e-16, 1.11022302e-16, 1.11022302e-16,\\n       1.11022302e-16, 1.11022302e-16, 1.11022302e-16, 1.11022302e-16,\\n       0.00000000e+00, 0.00000000e+00, 0.00000000e+00, 0.00000000e+00,\\n       0.00000000e+00, 0.00000000e+00, 0.00000000e+00, 0.00000000e+00,\\n       0.00000000e+00, 0.00000000e+00, 0.00000000e+00, 0.00000000e+00,\\n       0.00000000e+00, 0.00000000e+00, 1.11022302e-16, 1.11022302e-16,\\n       1.11022302e-16, 1.11022302e-16, 1.11022302e-16, 1.11022302e-16,\\n       1.11022302e-16, 1.11022302e-16, 1.11022302e-16, 1.11022302e-16,\\n       1.11022302e-16, 1.11022302e-16, 1.11022302e-16, 1.11022302e-16,\\n       1.11022302e-16, 0.00000000e+00, 0.00000000e+00, 0.00000000e+00,\\n       0.00000000e+00, 0.00000000e+00, 0.00000000e+00, 0.00000000e+00,\\n       0.00000000e+00, 0.00000000e+00, 0.00000000e+00, 0.00000000e+00,\\n       0.00000000e+00, 0.00000000e+00, 0.00000000e+00, 0.00000000e+00,\\n       1.11022302e-16, 1.11022302e-16, 1.11022302e-16, 1.11022302e-16,\\n       1.11022302e-16, 1.11022302e-16, 1.11022302e-16, 1.11022302e-16,\\n       1.11022302e-16, 1.11022302e-16, 1.11022302e-16, 1.11022302e-16,\\n       1.11022302e-16, 1.11022302e-16, 1.11022302e-16, 0.00000000e+00,\\n       0.00000000e+00, 0.00000000e+00, 0.00000000e+00, 0.00000000e+00,\\n       0.00000000e+00, 0.00000000e+00, 0.00000000e+00, 0.00000000e+00,\\n       0.00000000e+00, 0.00000000e+00, 0.00000000e+00, 0.00000000e+00,\\n       0.00000000e+00, 0.00000000e+00, 3.33333333e-01, 3.33333333e-01,\\n       3.33333333e-01, 3.33333333e-01, 3.33333333e-01, 3.33333333e-01,\\n       3.33333333e-01, 3.33333333e-01, 3.33333333e-01, 3.33333333e-01,\\n       3.33333333e-01, 3.33333333e-01, 3.33333333e-01, 3.33333333e-01,\\n       3.33333333e-01, 3.33333333e-01, 3.33333333e-01, 3.33333333e-01,\\n       3.33333333e-01, 3.33333333e-01, 3.33333333e-01, 3.33333333e-01,\\n       3.33333333e-01, 3.33333333e-01, 3.33333333e-01, 3.33333333e-01,\\n       3.33333333e-01, 3.33333333e-01, 3.33333333e-01, 3.33333333e-01,\\n       6.66666667e-01, 6.66666667e-01, 6.66666667e-01, 6.66666667e-01,\\n       6.66666667e-01, 6.66666667e-01, 6.66666667e-01, 6.66666667e-01,\\n       6.66666667e-01, 6.66666667e-01, 6.66666667e-01, 6.66666667e-01,\\n       6.66666667e-01, 6.66666667e-01, 6.66666667e-01, 6.66666667e-01,\\n       6.66666667e-01, 6.66666667e-01, 6.66666667e-01, 6.66666667e-01,\\n       6.66666667e-01, 6.66666667e-01, 6.66666667e-01, 6.66666667e-01,\\n       6.66666667e-01, 6.66666667e-01, 6.66666667e-01, 6.66666667e-01,\\n       6.66666667e-01, 6.66666667e-01, 1.00000000e+00, 1.00000000e+00,\\n       1.00000000e+00, 1.00000000e+00, 1.00000000e+00, 1.00000000e+00,\\n       1.00000000e+00, 1.00000000e+00, 1.00000000e+00, 1.00000000e+00,\\n       1.00000000e+00, 1.00000000e+00, 1.00000000e+00, 1.00000000e+00,\\n       1.00000000e+00, 6.66666667e-01, 6.66666667e-01, 6.66666667e-01,\\n       6.66666667e-01, 6.66666667e-01, 6.66666667e-01, 6.66666667e-01,\\n       6.66666667e-01, 6.66666667e-01, 6.66666667e-01, 6.66666667e-01,\\n       6.66666667e-01, 6.66666667e-01, 6.66666667e-01, 6.66666667e-01])', Fraction(1, 180)))"
                                    ]
                              },
                              "execution_count": 36,
                              "metadata": {},
                              "output_type": "execute_result"
                        }
                  ],
                  "source": [
                        "list(sliding_prob_lidar_mask(ms, window_size=3))[3]"
                  ]
            },
            {
                  "cell_type": "code",
                  "execution_count": 37,
                  "metadata": {},
                  "outputs": [
                        {
                              "data": {
                                    "text/plain": [
                                          "ProbLidarMask(('array([0.00000000e+00, 0.00000000e+00, 0.00000000e+00, 0.00000000e+00,\\n       0.00000000e+00, 0.00000000e+00, 0.00000000e+00, 0.00000000e+00,\\n       0.00000000e+00, 0.00000000e+00, 0.00000000e+00, 0.00000000e+00,\\n       0.00000000e+00, 0.00000000e+00, 0.00000000e+00, 0.00000000e+00,\\n       0.00000000e+00, 0.00000000e+00, 0.00000000e+00, 0.00000000e+00,\\n       0.00000000e+00, 0.00000000e+00, 0.00000000e+00, 0.00000000e+00,\\n       0.00000000e+00, 0.00000000e+00, 0.00000000e+00, 0.00000000e+00,\\n       0.00000000e+00, 0.00000000e+00, 0.00000000e+00, 0.00000000e+00,\\n       0.00000000e+00, 0.00000000e+00, 0.00000000e+00, 0.00000000e+00,\\n       0.00000000e+00, 0.00000000e+00, 0.00000000e+00, 0.00000000e+00,\\n       0.00000000e+00, 0.00000000e+00, 0.00000000e+00, 0.00000000e+00,\\n       0.00000000e+00, 0.00000000e+00, 0.00000000e+00, 0.00000000e+00,\\n       0.00000000e+00, 0.00000000e+00, 0.00000000e+00, 0.00000000e+00,\\n       0.00000000e+00, 0.00000000e+00, 0.00000000e+00, 0.00000000e+00,\\n       0.00000000e+00, 0.00000000e+00, 0.00000000e+00, 0.00000000e+00,\\n       1.11022302e-16, 1.11022302e-16, 1.11022302e-16, 1.11022302e-16,\\n       1.11022302e-16, 1.11022302e-16, 1.11022302e-16, 1.11022302e-16,\\n       1.11022302e-16, 1.11022302e-16, 1.11022302e-16, 1.11022302e-16,\\n       1.11022302e-16, 1.11022302e-16, 1.11022302e-16, 0.00000000e+00,\\n       0.00000000e+00, 0.00000000e+00, 0.00000000e+00, 0.00000000e+00,\\n       0.00000000e+00, 0.00000000e+00, 0.00000000e+00, 0.00000000e+00,\\n       0.00000000e+00, 0.00000000e+00, 0.00000000e+00, 0.00000000e+00,\\n       0.00000000e+00, 0.00000000e+00, 1.11022302e-16, 1.11022302e-16,\\n       1.11022302e-16, 1.11022302e-16, 1.11022302e-16, 1.11022302e-16,\\n       1.11022302e-16, 1.11022302e-16, 1.11022302e-16, 1.11022302e-16,\\n       1.11022302e-16, 1.11022302e-16, 1.11022302e-16, 1.11022302e-16,\\n       1.11022302e-16, 0.00000000e+00, 0.00000000e+00, 0.00000000e+00,\\n       0.00000000e+00, 0.00000000e+00, 0.00000000e+00, 0.00000000e+00,\\n       0.00000000e+00, 0.00000000e+00, 0.00000000e+00, 0.00000000e+00,\\n       0.00000000e+00, 0.00000000e+00, 0.00000000e+00, 0.00000000e+00,\\n       1.11022302e-16, 1.11022302e-16, 1.11022302e-16, 1.11022302e-16,\\n       1.11022302e-16, 1.11022302e-16, 1.11022302e-16, 1.11022302e-16,\\n       1.11022302e-16, 1.11022302e-16, 1.11022302e-16, 1.11022302e-16,\\n       1.11022302e-16, 1.11022302e-16, 1.11022302e-16, 0.00000000e+00,\\n       0.00000000e+00, 0.00000000e+00, 0.00000000e+00, 0.00000000e+00,\\n       0.00000000e+00, 0.00000000e+00, 0.00000000e+00, 0.00000000e+00,\\n       0.00000000e+00, 0.00000000e+00, 0.00000000e+00, 0.00000000e+00,\\n       0.00000000e+00, 0.00000000e+00, 1.11022302e-16, 1.11022302e-16,\\n       1.11022302e-16, 1.11022302e-16, 1.11022302e-16, 1.11022302e-16,\\n       1.11022302e-16, 1.11022302e-16, 1.11022302e-16, 1.11022302e-16,\\n       1.11022302e-16, 1.11022302e-16, 1.11022302e-16, 1.11022302e-16,\\n       1.11022302e-16, 0.00000000e+00, 0.00000000e+00, 0.00000000e+00,\\n       0.00000000e+00, 0.00000000e+00, 0.00000000e+00, 0.00000000e+00,\\n       0.00000000e+00, 0.00000000e+00, 0.00000000e+00, 0.00000000e+00,\\n       0.00000000e+00, 0.00000000e+00, 0.00000000e+00, 0.00000000e+00,\\n       1.11022302e-16, 1.11022302e-16, 1.11022302e-16, 1.11022302e-16,\\n       1.11022302e-16, 1.11022302e-16, 1.11022302e-16, 1.11022302e-16,\\n       1.11022302e-16, 1.11022302e-16, 1.11022302e-16, 1.11022302e-16,\\n       1.11022302e-16, 1.11022302e-16, 1.11022302e-16, 1.11022302e-16,\\n       0.00000000e+00, 0.00000000e+00, 0.00000000e+00, 0.00000000e+00,\\n       0.00000000e+00, 0.00000000e+00, 0.00000000e+00, 0.00000000e+00,\\n       0.00000000e+00, 0.00000000e+00, 0.00000000e+00, 0.00000000e+00,\\n       0.00000000e+00, 0.00000000e+00, 1.11022302e-16, 1.11022302e-16,\\n       1.11022302e-16, 1.11022302e-16, 1.11022302e-16, 1.11022302e-16,\\n       1.11022302e-16, 1.11022302e-16, 1.11022302e-16, 1.11022302e-16,\\n       1.11022302e-16, 1.11022302e-16, 1.11022302e-16, 1.11022302e-16,\\n       1.11022302e-16, 0.00000000e+00, 0.00000000e+00, 0.00000000e+00,\\n       0.00000000e+00, 0.00000000e+00, 0.00000000e+00, 0.00000000e+00,\\n       0.00000000e+00, 0.00000000e+00, 0.00000000e+00, 0.00000000e+00,\\n       0.00000000e+00, 0.00000000e+00, 0.00000000e+00, 0.00000000e+00,\\n       1.11022302e-16, 1.11022302e-16, 1.11022302e-16, 1.11022302e-16,\\n       1.11022302e-16, 1.11022302e-16, 1.11022302e-16, 1.11022302e-16,\\n       1.11022302e-16, 1.11022302e-16, 1.11022302e-16, 1.11022302e-16,\\n       1.11022302e-16, 1.11022302e-16, 1.11022302e-16, 0.00000000e+00,\\n       0.00000000e+00, 0.00000000e+00, 0.00000000e+00, 0.00000000e+00,\\n       0.00000000e+00, 0.00000000e+00, 0.00000000e+00, 0.00000000e+00,\\n       0.00000000e+00, 0.00000000e+00, 0.00000000e+00, 0.00000000e+00,\\n       0.00000000e+00, 0.00000000e+00, 3.33333333e-01, 3.33333333e-01,\\n       3.33333333e-01, 3.33333333e-01, 3.33333333e-01, 3.33333333e-01,\\n       3.33333333e-01, 3.33333333e-01, 3.33333333e-01, 3.33333333e-01,\\n       3.33333333e-01, 3.33333333e-01, 3.33333333e-01, 3.33333333e-01,\\n       3.33333333e-01, 3.33333333e-01, 3.33333333e-01, 3.33333333e-01,\\n       3.33333333e-01, 3.33333333e-01, 3.33333333e-01, 3.33333333e-01,\\n       3.33333333e-01, 3.33333333e-01, 3.33333333e-01, 3.33333333e-01,\\n       3.33333333e-01, 3.33333333e-01, 3.33333333e-01, 3.33333333e-01,\\n       6.66666667e-01, 6.66666667e-01, 6.66666667e-01, 6.66666667e-01,\\n       6.66666667e-01, 6.66666667e-01, 6.66666667e-01, 6.66666667e-01,\\n       6.66666667e-01, 6.66666667e-01, 6.66666667e-01, 6.66666667e-01,\\n       6.66666667e-01, 6.66666667e-01, 6.66666667e-01, 6.66666667e-01,\\n       6.66666667e-01, 6.66666667e-01, 6.66666667e-01, 6.66666667e-01,\\n       6.66666667e-01, 6.66666667e-01, 6.66666667e-01, 6.66666667e-01,\\n       6.66666667e-01, 6.66666667e-01, 6.66666667e-01, 6.66666667e-01,\\n       6.66666667e-01, 6.66666667e-01, 1.00000000e+00, 1.00000000e+00,\\n       1.00000000e+00, 1.00000000e+00, 1.00000000e+00, 1.00000000e+00,\\n       1.00000000e+00, 1.00000000e+00, 1.00000000e+00, 1.00000000e+00,\\n       1.00000000e+00, 1.00000000e+00, 1.00000000e+00, 1.00000000e+00,\\n       1.00000000e+00, 6.66666667e-01, 6.66666667e-01, 6.66666667e-01,\\n       6.66666667e-01, 6.66666667e-01, 6.66666667e-01, 6.66666667e-01,\\n       6.66666667e-01, 6.66666667e-01, 6.66666667e-01, 6.66666667e-01,\\n       6.66666667e-01, 6.66666667e-01, 6.66666667e-01, 6.66666667e-01])', Fraction(1, 180)))"
                                    ]
                              },
                              "execution_count": 37,
                              "metadata": {},
                              "output_type": "execute_result"
                        }
                  ],
                  "source": [
                        "list(sliding_prob_lidar_mask(ms, window_size=3))[3]"
                  ]
            },
            {
                  "cell_type": "code",
                  "execution_count": 38,
                  "metadata": {},
                  "outputs": [
                        {
                              "data": {
                                    "text/plain": [
                                          "ProbLidarMask(('array([0.7, 0.7, 0.7, 0.7, 0.7, 0.7, 0.7, 0.7, 0.7, 0.7, 0.7, 0.7, 0.7,\\n       0.7, 0.7, 0.7, 0.7, 0.7, 0.7, 0.7, 0.7, 0.7, 0.7, 0.7, 0.7, 0.7,\\n       0.7, 0.7, 0.7, 0.7, 0.7, 0.7, 0.7, 0.7, 0.7, 0.7, 0.7, 0.7, 0.7,\\n       0.7, 0.7, 0.7, 0.7, 0.7, 0.7, 0.7, 0.7, 0.7, 0.7, 0.7, 0.7, 0.7,\\n       0.7, 0.7, 0.7, 0.7, 0.7, 0.7, 0. , 0. , 0. , 0. , 0. , 0. , 0. ,\\n       0. , 0. , 0. , 0. , 0. , 0. , 0. , 0. , 0. , 0. , 0. , 0. , 0. ,\\n       0. , 0. , 0. , 0. , 0. , 0. , 0. , 0. , 0. , 0. , 0. , 0. , 0. ,\\n       0. , 0. , 0. , 0. , 0. , 0. , 0. , 0. , 0. , 0. , 0. , 0. , 0. ,\\n       0. , 0. , 0. , 0. , 0. , 0. , 0. , 0. , 0. , 0. , 0. , 0.7, 0.7,\\n       0.7, 0.7, 0.7, 0.7, 0.7, 0.7, 0.7, 0.7, 0.7, 0.7, 0.7, 0.7, 0.7,\\n       0.7, 0.7, 0.7, 0.7, 0.7, 0.7, 0.7, 0.7, 0.7, 0.7, 0.7, 0.7, 0.7,\\n       0.7, 0.7, 0.7, 0.7, 0.7, 0.7, 0.7, 0.7, 0.7, 0.7, 0.7, 0.7, 0.7,\\n       0.7, 0.7, 0.7, 0.7, 0.7, 0.7, 0.7, 0.7, 0.7, 0.7, 0.7, 0.7, 0.7,\\n       0.7, 0.7, 0.7, 0. , 0. , 0. , 0. , 0. , 0. , 0. , 0. , 0. , 0. ,\\n       0. , 0. , 0. , 0. , 0. , 0. , 0. , 0. , 0. , 0. , 0. , 0. , 0. ,\\n       0. , 0. , 0. , 0. , 0. , 0. , 0. , 0. , 0. , 0. , 0. , 0. , 0. ,\\n       0. , 0. , 0. , 0. , 0. , 0. , 0. , 0. , 0. , 0. , 0. , 0. , 0. ,\\n       0. , 0. , 0. , 0. , 0. , 0. , 0. , 0. , 0. , 0. , 0. , 0. , 0. ,\\n       0. , 0. , 0. , 0. , 0. , 0. , 0. , 0. , 0. , 0. , 0. , 0. , 0. ,\\n       0. , 0. , 0. , 0. , 0. , 0. , 0. , 0. , 0. , 0. , 0. , 0. , 0. ,\\n       0. , 0. , 0. , 0. , 0. , 0. , 0. , 0. , 0. , 0. , 0. , 0. , 0. ,\\n       0. , 0. , 0. , 0. , 0. , 0. , 0. , 0. , 0. , 0. , 0. , 0. , 0. ,\\n       0. , 0. , 0. , 0. , 0. , 0. , 0. , 0. , 0. , 0. , 0. , 0. , 0. ,\\n       0. , 0. , 0. , 0. , 0. , 0. , 0. , 0. , 0. , 0. , 0. , 0. , 0. ,\\n       0. , 0. , 0. , 0. , 0. , 0. , 0. , 0. , 0. , 0. , 0. , 0. , 0. ,\\n       0. , 0. , 0. , 0. , 0. , 0. , 0. , 0. , 0. , 0. , 0. , 0. , 0. ,\\n       0. , 0. , 0. , 0. , 0. , 0. , 0. , 0. , 0. , 0. , 0. , 0. , 0. ,\\n       0. , 0. , 0. , 0. , 0. , 0. , 0. , 0. , 0. ])', Fraction(1, 180)))"
                                    ]
                              },
                              "execution_count": 38,
                              "metadata": {},
                              "output_type": "execute_result"
                        }
                  ],
                  "source": [
                        "mask"
                  ]
            },
            {
                  "cell_type": "code",
                  "execution_count": 39,
                  "metadata": {},
                  "outputs": [],
                  "source": [
                        "import pickle"
                  ]
            },
            {
                  "cell_type": "code",
                  "execution_count": 40,
                  "metadata": {},
                  "outputs": [
                        {
                              "data": {
                                    "image/png": "[encoded data removed]",
                                    "text/plain": [
                                          "<Figure size 432x72 with 1 Axes>"
                                    ]
                              },
                              "execution_count": 40,
                              "metadata": {},
                              "output_type": "execute_result"
                        }
                  ],
                  "source": [
                        "mask.plot()"
                  ]
            },
            {
                  "cell_type": "code",
                  "execution_count": 41,
                  "metadata": {},
                  "outputs": [],
                  "source": [
                        "mask_pickle = pickle.dumps(mask)"
                  ]
            },
            {
                  "cell_type": "code",
                  "execution_count": 42,
                  "metadata": {},
                  "outputs": [
                        {
                              "data": {
                                    "text/plain": [
                                          "b'\\x80\\x04\\x95;\\x0c\\x00\\x00\\x00\\x00\\x00\\x00\\x8c\\x14lidarocclusion.masks\\x94\\x8c\\rProbLidarMask\\x94\\x93\\x94)\\x81\\x94}\\x94(\\x8c\\x0b_base_angle\\x94\\x8c\\tfractions\\x94\\x8c\\x08Fraction\\x94\\x93\\x94\\x8c\\x051/180\\x94\\x85\\x94R\\x94\\x8c\\x07_values\\x94\\x8c\\x16numpy._core.multiarray\\x94\\x8c\\x0c_reconstruct\\x94\\x93\\x94\\x8c\\x05numpy\\x94\\x8c\\x07ndarray\\x94\\x93\\x94K\\x00\\x85\\x94C\\x01b\\x94\\x87\\x94R\\x94(K\\x01Mh\\x01\\x85\\x94h\\x10\\x8c\\x05dtype\\x94\\x93\\x94\\x8c\\x02f8\\x94\\x89\\x88\\x87\\x94R\\x94(K\\x03\\x8c\\x01<\\x94NNNJ\\xff\\xff\\xff\\xffJ\\xff\\xff\\xff\\xffK\\x00t\\x94b\\x89B@\\x0b\\x00\\x00ffffff\\xe6?ffffff\\xe6?ffffff\\xe6?ffffff\\xe6?ffffff\\xe6?ffffff\\xe6?ffffff\\xe6?ffffff\\xe6?ffffff\\xe6?ffffff\\xe6?ffffff\\xe6?ffffff\\xe6?ffffff\\xe6?ffffff\\xe6?ffffff\\xe6?ffffff\\xe6?ffffff\\xe6?ffffff\\xe6?ffffff\\xe6?ffffff\\xe6?ffffff\\xe6?ffffff\\xe6?ffffff\\xe6?ffffff\\xe6?ffffff\\xe6?ffffff\\xe6?ffffff\\xe6?ffffff\\xe6?ffffff\\xe6?ffffff\\xe6?ffffff\\xe6?ffffff\\xe6?ffffff\\xe6?ffffff\\xe6?ffffff\\xe6?ffffff\\xe6?ffffff\\xe6?ffffff\\xe6?ffffff\\xe6?ffffff\\xe6?ffffff\\xe6?ffffff\\xe6?ffffff\\xe6?ffffff\\xe6?ffffff\\xe6?ffffff\\xe6?ffffff\\xe6?ffffff\\xe6?ffffff\\xe6?ffffff\\xe6?ffffff\\xe6?ffffff\\xe6?ffffff\\xe6?ffffff\\xe6?ffffff\\xe6?ffffff\\xe6?ffffff\\xe6?ffffff\\xe6?\\x00\\x00\\x00\\x00\\x00\\x00\\x00\\x00\\x00\\x00\\x00\\x00\\x00\\x00\\x00\\x00\\x00\\x00\\x00\\x00\\x00\\x00\\x00\\x00\\x00\\x00\\x00\\x00\\x00\\x00\\x00\\x00\\x00\\x00\\x00\\x00\\x00\\x00\\x00\\x00\\x00\\x00\\x00\\x00\\x00\\x00\\x00\\x00\\x00\\x00\\x00\\x00\\x00\\x00\\x00\\x00\\x00\\x00\\x00\\x00\\x00\\x00\\x00\\x00\\x00\\x00\\x00\\x00\\x00\\x00\\x00\\x00\\x00\\x00\\x00\\x00\\x00\\x00\\x00\\x00\\x00\\x00\\x00\\x00\\x00\\x00\\x00\\x00\\x00\\x00\\x00\\x00\\x00\\x00\\x00\\x00\\x00\\x00\\x00\\x00\\x00\\x00\\x00\\x00\\x00\\x00\\x00\\x00\\x00\\x00\\x00\\x00\\x00\\x00\\x00\\x00\\x00\\x00\\x00\\x00\\x00\\x00\\x00\\x00\\x00\\x00\\x00\\x00\\x00\\x00\\x00\\x00\\x00\\x00\\x00\\x00\\x00\\x00\\x00\\x00\\x00\\x00\\x00\\x00\\x00\\x00\\x00\\x00\\x00\\x00\\x00\\x00\\x00\\x00\\x00\\x00\\x00\\x00\\x00\\x00\\x00\\x00\\x00\\x00\\x00\\x00\\x00\\x00\\x00\\x00\\x00\\x00\\x00\\x00\\x00\\x00\\x00\\x00\\x00\\x00\\x00\\x00\\x00\\x00\\x00\\x00\\x00\\x00\\x00\\x00\\x00\\x00\\x00\\x00\\x00\\x00\\x00\\x00\\x00\\x00\\x00\\x00\\x00\\x00\\x00\\x00\\x00\\x00\\x00\\x00\\x00\\x00\\x00\\x00\\x00\\x00\\x00\\x00\\x00\\x00\\x00\\x00\\x00\\x00\\x00\\x00\\x00\\x00\\x00\\x00\\x00\\x00\\x00\\x00\\x00\\x00\\x00\\x00\\x00\\x00\\x00\\x00\\x00\\x00\\x00\\x00\\x00\\x00\\x00\\x00\\x00\\x00\\x00\\x00\\x00\\x00\\x00\\x00\\x00\\x00\\x00\\x00\\x00\\x00\\x00\\x00\\x00\\x00\\x00\\x00\\x00\\x00\\x00\\x00\\x00\\x00\\x00\\x00\\x00\\x00\\x00\\x00\\x00\\x00\\x00\\x00\\x00\\x00\\x00\\x00\\x00\\x00\\x00\\x00\\x00\\x00\\x00\\x00\\x00\\x00\\x00\\x00\\x00\\x00\\x00\\x00\\x00\\x00\\x00\\x00\\x00\\x00\\x00\\x00\\x00\\x00\\x00\\x00\\x00\\x00\\x00\\x00\\x00\\x00\\x00\\x00\\x00\\x00\\x00\\x00\\x00\\x00\\x00\\x00\\x00\\x00\\x00\\x00\\x00\\x00\\x00\\x00\\x00\\x00\\x00\\x00\\x00\\x00\\x00\\x00\\x00\\x00\\x00\\x00\\x00\\x00\\x00\\x00\\x00\\x00\\x00\\x00\\x00\\x00\\x00\\x00\\x00\\x00\\x00\\x00\\x00\\x00\\x00\\x00\\x00\\x00\\x00\\x00\\x00\\x00\\x00\\x00\\x00\\x00\\x00\\x00\\x00\\x00\\x00\\x00\\x00\\x00\\x00\\x00\\x00\\x00\\x00\\x00\\x00\\x00\\x00\\x00\\x00\\x00\\x00\\x00\\x00\\x00\\x00\\x00\\x00\\x00\\x00\\x00\\x00\\x00\\x00\\x00\\x00\\x00\\x00\\x00\\x00\\x00\\x00\\x00\\x00\\x00\\x00\\x00\\x00\\x00\\x00\\x00\\x00\\x00\\x00\\x00\\x00\\x00\\x00\\x00\\x00\\x00\\x00\\x00\\x00\\x00\\x00\\x00\\x00\\x00\\x00\\x00\\x00\\x00ffffff\\xe6?ffffff\\xe6?ffffff\\xe6?ffffff\\xe6?ffffff\\xe6?ffffff\\xe6?ffffff\\xe6?ffffff\\xe6?ffffff\\xe6?ffffff\\xe6?ffffff\\xe6?ffffff\\xe6?ffffff\\xe6?ffffff\\xe6?ffffff\\xe6?ffffff\\xe6?ffffff\\xe6?ffffff\\xe6?ffffff\\xe6?ffffff\\xe6?ffffff\\xe6?ffffff\\xe6?ffffff\\xe6?ffffff\\xe6?ffffff\\xe6?ffffff\\xe6?ffffff\\xe6?ffffff\\xe6?ffffff\\xe6?ffffff\\xe6?ffffff\\xe6?ffffff\\xe6?ffffff\\xe6?ffffff\\xe6?ffffff\\xe6?ffffff\\xe6?ffffff\\xe6?ffffff\\xe6?ffffff\\xe6?ffffff\\xe6?ffffff\\xe6?ffffff\\xe6?ffffff\\xe6?ffffff\\xe6?ffffff\\xe6?ffffff\\xe6?ffffff\\xe6?ffffff\\xe6?ffffff\\xe6?ffffff\\xe6?ffffff\\xe6?ffffff\\xe6?ffffff\\xe6?ffffff\\xe6?ffffff\\xe6?ffffff\\xe6?ffffff\\xe6?\\x00\\x00\\x00\\x00\\x00\\x00\\x00\\x00\\x00\\x00\\x00\\x00\\x00\\x00\\x00\\x00\\x00\\x00\\x00\\x00\\x00\\x00\\x00\\x00\\x00\\x00\\x00\\x00\\x00\\x00\\x00\\x00\\x00\\x00\\x00\\x00\\x00\\x00\\x00\\x00\\x00\\x00\\x00\\x00\\x00\\x00\\x00\\x00\\x00\\x00\\x00\\x00\\x00\\x00\\x00\\x00\\x00\\x00\\x00\\x00\\x00\\x00\\x00\\x00\\x00\\x00\\x00\\x00\\x00\\x00\\x00\\x00\\x00\\x00\\x00\\x00\\x00\\x00\\x00\\x00\\x00\\x00\\x00\\x00\\x00\\x00\\x00\\x00\\x00\\x00\\x00\\x00\\x00\\x00\\x00\\x00\\x00\\x00\\x00\\x00\\x00\\x00\\x00\\x00\\x00\\x00\\x00\\x00\\x00\\x00\\x00\\x00\\x00\\x00\\x00\\x00\\x00\\x00\\x00\\x00\\x00\\x00\\x00\\x00\\x00\\x00\\x00\\x00\\x00\\x00\\x00\\x00\\x00\\x00\\x00\\x00\\x00\\x00\\x00\\x00\\x00\\x00\\x00\\x00\\x00\\x00\\x00\\x00\\x00\\x00\\x00\\x00\\x00\\x00\\x00\\x00\\x00\\x00\\x00\\x00\\x00\\x00\\x00\\x00\\x00\\x00\\x00\\x00\\x00\\x00\\x00\\x00\\x00\\x00\\x00\\x00\\x00\\x00\\x00\\x00\\x00\\x00\\x00\\x00\\x00\\x00\\x00\\x00\\x00\\x00\\x00\\x00\\x00\\x00\\x00\\x00\\x00\\x00\\x00\\x00\\x00\\x00\\x00\\x00\\x00\\x00\\x00\\x00\\x00\\x00\\x00\\x00\\x00\\x00\\x00\\x00\\x00\\x00\\x00\\x00\\x00\\x00\\x00\\x00\\x00\\x00\\x00\\x00\\x00\\x00\\x00\\x00\\x00\\x00\\x00\\x00\\x00\\x00\\x00\\x00\\x00\\x00\\x00\\x00\\x00\\x00\\x00\\x00\\x00\\x00\\x00\\x00\\x00\\x00\\x00\\x00\\x00\\x00\\x00\\x00\\x00\\x00\\x00\\x00\\x00\\x00\\x00\\x00\\x00\\x00\\x00\\x00\\x00\\x00\\x00\\x00\\x00\\x00\\x00\\x00\\x00\\x00\\x00\\x00\\x00\\x00\\x00\\x00\\x00\\x00\\x00\\x00\\x00\\x00\\x00\\x00\\x00\\x00\\x00\\x00\\x00\\x00\\x00\\x00\\x00\\x00\\x00\\x00\\x00\\x00\\x00\\x00\\x00\\x00\\x00\\x00\\x00\\x00\\x00\\x00\\x00\\x00\\x00\\x00\\x00\\x00\\x00\\x00\\x00\\x00\\x00\\x00\\x00\\x00\\x00\\x00\\x00\\x00\\x00\\x00\\x00\\x00\\x00\\x00\\x00\\x00\\x00\\x00\\x00\\x00\\x00\\x00\\x00\\x00\\x00\\x00\\x00\\x00\\x00\\x00\\x00\\x00\\x00\\x00\\x00\\x00\\x00\\x00\\x00\\x00\\x00\\x00\\x00\\x00\\x00\\x00\\x00\\x00\\x00\\x00\\x00\\x00\\x00\\x00\\x00\\x00\\x00\\x00\\x00\\x00\\x00\\x00\\x00\\x00\\x00\\x00\\x00\\x00\\x00\\x00\\x00\\x00\\x00\\x00\\x00\\x00\\x00\\x00\\x00\\x00\\x00\\x00\\x00\\x00\\x00\\x00\\x00\\x00\\x00\\x00\\x00\\x00\\x00\\x00\\x00\\x00\\x00\\x00\\x00\\x00\\x00\\x00\\x00\\x00\\x00\\x00\\x00\\x00\\x00\\x00\\x00\\x00\\x00\\x00\\x00\\x00\\x00\\x00\\x00\\x00\\x00\\x00\\x00\\x00\\x00\\x00\\x00\\x00\\x00\\x00\\x00\\x00\\x00\\x00\\x00\\x00\\x00\\x00\\x00\\x00\\x00\\x00\\x00\\x00\\x00\\x00\\x00\\x00\\x00\\x00\\x00\\x00\\x00\\x00\\x00\\x00\\x00\\x00\\x00\\x00\\x00\\x00\\x00\\x00\\x00\\x00\\x00\\x00\\x00\\x00\\x00\\x00\\x00\\x00\\x00\\x00\\x00\\x00\\x00\\x00\\x00\\x00\\x00\\x00\\x00\\x00\\x00\\x00\\x00\\x00\\x00\\x00\\x00\\x00\\x00\\x00\\x00\\x00\\x00\\x00\\x00\\x00\\x00\\x00\\x00\\x00\\x00\\x00\\x00\\x00\\x00\\x00\\x00\\x00\\x00\\x00\\x00\\x00\\x00\\x00\\x00\\x00\\x00\\x00\\x00\\x00\\x00\\x00\\x00\\x00\\x00\\x00\\x00\\x00\\x00\\x00\\x00\\x00\\x00\\x00\\x00\\x00\\x00\\x00\\x00\\x00\\x00\\x00\\x00\\x00\\x00\\x00\\x00\\x00\\x00\\x00\\x00\\x00\\x00\\x00\\x00\\x00\\x00\\x00\\x00\\x00\\x00\\x00\\x00\\x00\\x00\\x00\\x00\\x00\\x00\\x00\\x00\\x00\\x00\\x00\\x00\\x00\\x00\\x00\\x00\\x00\\x00\\x00\\x00\\x00\\x00\\x00\\x00\\x00\\x00\\x00\\x00\\x00\\x00\\x00\\x00\\x00\\x00\\x00\\x00\\x00\\x00\\x00\\x00\\x00\\x00\\x00\\x00\\x00\\x00\\x00\\x00\\x00\\x00\\x00\\x00\\x00\\x00\\x00\\x00\\x00\\x00\\x00\\x00\\x00\\x00\\x00\\x00\\x00\\x00\\x00\\x00\\x00\\x00\\x00\\x00\\x00\\x00\\x00\\x00\\x00\\x00\\x00\\x00\\x00\\x00\\x00\\x00\\x00\\x00\\x00\\x00\\x00\\x00\\x00\\x00\\x00\\x00\\x00\\x00\\x00\\x00\\x00\\x00\\x00\\x00\\x00\\x00\\x00\\x00\\x00\\x00\\x00\\x00\\x00\\x00\\x00\\x00\\x00\\x00\\x00\\x00\\x00\\x00\\x00\\x00\\x00\\x00\\x00\\x00\\x00\\x00\\x00\\x00\\x00\\x00\\x00\\x00\\x00\\x00\\x00\\x00\\x00\\x00\\x00\\x00\\x00\\x00\\x00\\x00\\x00\\x00\\x00\\x00\\x00\\x00\\x00\\x00\\x00\\x00\\x00\\x00\\x00\\x00\\x00\\x00\\x00\\x00\\x00\\x00\\x00\\x00\\x00\\x00\\x00\\x00\\x00\\x00\\x00\\x00\\x00\\x00\\x00\\x00\\x00\\x00\\x00\\x00\\x00\\x00\\x00\\x00\\x00\\x00\\x00\\x00\\x00\\x00\\x00\\x00\\x00\\x00\\x00\\x00\\x00\\x00\\x00\\x00\\x00\\x00\\x00\\x00\\x00\\x00\\x00\\x00\\x00\\x00\\x00\\x00\\x00\\x00\\x00\\x00\\x00\\x00\\x00\\x00\\x00\\x00\\x00\\x00\\x00\\x00\\x00\\x00\\x00\\x00\\x00\\x00\\x00\\x00\\x00\\x00\\x00\\x00\\x00\\x00\\x00\\x00\\x00\\x00\\x00\\x00\\x00\\x00\\x00\\x00\\x00\\x00\\x00\\x00\\x00\\x00\\x00\\x00\\x00\\x00\\x00\\x00\\x00\\x00\\x00\\x00\\x00\\x00\\x00\\x00\\x00\\x00\\x00\\x00\\x00\\x00\\x00\\x00\\x00\\x00\\x00\\x00\\x00\\x00\\x00\\x00\\x00\\x00\\x00\\x00\\x00\\x00\\x00\\x00\\x00\\x00\\x00\\x00\\x00\\x00\\x00\\x00\\x00\\x00\\x00\\x00\\x00\\x00\\x00\\x00\\x00\\x00\\x00\\x00\\x00\\x00\\x00\\x00\\x00\\x00\\x00\\x00\\x00\\x00\\x00\\x00\\x00\\x00\\x00\\x00\\x00\\x00\\x00\\x00\\x00\\x00\\x00\\x00\\x00\\x00\\x00\\x00\\x00\\x00\\x00\\x00\\x00\\x00\\x00\\x00\\x00\\x00\\x00\\x00\\x00\\x00\\x00\\x00\\x00\\x00\\x00\\x00\\x00\\x00\\x00\\x00\\x00\\x00\\x00\\x00\\x00\\x00\\x00\\x00\\x00\\x00\\x00\\x00\\x00\\x00\\x00\\x00\\x00\\x00\\x00\\x00\\x00\\x00\\x00\\x00\\x00\\x00\\x00\\x00\\x00\\x00\\x00\\x00\\x00\\x00\\x00\\x00\\x00\\x00\\x00\\x00\\x00\\x00\\x00\\x00\\x00\\x00\\x00\\x00\\x00\\x00\\x00\\x00\\x00\\x00\\x00\\x00\\x00\\x00\\x00\\x00\\x00\\x00\\x00\\x00\\x00\\x00\\x00\\x00\\x00\\x00\\x00\\x00\\x00\\x00\\x00\\x00\\x00\\x00\\x00\\x00\\x00\\x00\\x00\\x00\\x00\\x00\\x00\\x00\\x00\\x00\\x00\\x00\\x00\\x00\\x00\\x00\\x00\\x00\\x00\\x00\\x00\\x00\\x00\\x00\\x00\\x00\\x00\\x00\\x00\\x00\\x00\\x00\\x00\\x00\\x00\\x00\\x00\\x00\\x00\\x00\\x00\\x00\\x00\\x00\\x00\\x00\\x00\\x00\\x00\\x00\\x00\\x00\\x00\\x00\\x00\\x00\\x00\\x00\\x00\\x00\\x00\\x00\\x00\\x00\\x00\\x00\\x00\\x00\\x00\\x00\\x00\\x00\\x00\\x00\\x00\\x00\\x00\\x00\\x00\\x00\\x00\\x00\\x00\\x00\\x00\\x00\\x00\\x00\\x00\\x00\\x00\\x00\\x00\\x00\\x00\\x00\\x00\\x00\\x00\\x00\\x00\\x00\\x00\\x00\\x00\\x00\\x00\\x00\\x00\\x00\\x00\\x00\\x00\\x00\\x00\\x00\\x00\\x00\\x00\\x00\\x00\\x00\\x00\\x00\\x00\\x00\\x00\\x00\\x00\\x00\\x00\\x00\\x00\\x00\\x00\\x00\\x00\\x00\\x00\\x00\\x00\\x00\\x00\\x00\\x00\\x00\\x00\\x00\\x00\\x00\\x00\\x00\\x00\\x00\\x00\\x00\\x00\\x00\\x00\\x00\\x00\\x00\\x00\\x00\\x00\\x00\\x00\\x00\\x00\\x00\\x00\\x00\\x00\\x00\\x00\\x00\\x00\\x00\\x00\\x00\\x00\\x00\\x00\\x00\\x00\\x00\\x00\\x00\\x00\\x00\\x00\\x00\\x00\\x00\\x00\\x00\\x00\\x00\\x00\\x00\\x00\\x00\\x00\\x00\\x00\\x00\\x00\\x00\\x00\\x00\\x00\\x00\\x00\\x00\\x00\\x00\\x00\\x00\\x00\\x00\\x00\\x00\\x00\\x00\\x00\\x00\\x00\\x00\\x00\\x00\\x00\\x00\\x00\\x00\\x00\\x00\\x00\\x00\\x00\\x00\\x00\\x00\\x00\\x00\\x00\\x00\\x00\\x00\\x00\\x00\\x00\\x00\\x00\\x00\\x00\\x00\\x00\\x00\\x00\\x00\\x00\\x00\\x00\\x00\\x00\\x00\\x00\\x00\\x00\\x00\\x00\\x00\\x00\\x00\\x00\\x00\\x00\\x00\\x00\\x00\\x00\\x00\\x00\\x00\\x00\\x00\\x00\\x00\\x00\\x00\\x00\\x00\\x00\\x00\\x00\\x00\\x00\\x00\\x00\\x00\\x00\\x00\\x00\\x00\\x00\\x00\\x00\\x00\\x00\\x00\\x00\\x00\\x00\\x00\\x00\\x00\\x00\\x00\\x00\\x00\\x00\\x00\\x00\\x00\\x00\\x00\\x00\\x00\\x00\\x00\\x00\\x00\\x00\\x00\\x00\\x00\\x00\\x00\\x00\\x00\\x00\\x00\\x00\\x00\\x00\\x00\\x00\\x00\\x00\\x00\\x00\\x00\\x00\\x00\\x00\\x00\\x00\\x00\\x00\\x00\\x00\\x00\\x00\\x00\\x00\\x00\\x00\\x00\\x00\\x00\\x00\\x00\\x00\\x00\\x00\\x00\\x00\\x00\\x00\\x00\\x00\\x00\\x00\\x00\\x00\\x00\\x00\\x00\\x00\\x00\\x00\\x00\\x00\\x00\\x00\\x00\\x00\\x00\\x00\\x00\\x00\\x00\\x00\\x00\\x00\\x00\\x00\\x00\\x00\\x00\\x00\\x00\\x00\\x00\\x00\\x00\\x00\\x00\\x00\\x00\\x00\\x00\\x00\\x00\\x00\\x00\\x00\\x00\\x00\\x00\\x00\\x00\\x00\\x00\\x00\\x00\\x00\\x00\\x00\\x00\\x00\\x00\\x00\\x00\\x00\\x00\\x00\\x00\\x00\\x00\\x00\\x00\\x00\\x00\\x00\\x94t\\x94bub.'"
                                    ]
                              },
                              "execution_count": 42,
                              "metadata": {},
                              "output_type": "execute_result"
                        }
                  ],
                  "source": [
                        "mask_pickle"
                  ]
            },
            {
                  "cell_type": "code",
                  "execution_count": 43,
                  "metadata": {},
                  "outputs": [
                        {
                              "data": {
                                    "text/plain": [
                                          "ProbLidarMask(('array([0.7, 0.7, 0.7, 0.7, 0.7, 0.7, 0.7, 0.7, 0.7, 0.7, 0.7, 0.7, 0.7,\\n       0.7, 0.7, 0.7, 0.7, 0.7, 0.7, 0.7, 0.7, 0.7, 0.7, 0.7, 0.7, 0.7,\\n       0.7, 0.7, 0.7, 0.7, 0.7, 0.7, 0.7, 0.7, 0.7, 0.7, 0.7, 0.7, 0.7,\\n       0.7, 0.7, 0.7, 0.7, 0.7, 0.7, 0.7, 0.7, 0.7, 0.7, 0.7, 0.7, 0.7,\\n       0.7, 0.7, 0.7, 0.7, 0.7, 0.7, 0. , 0. , 0. , 0. , 0. , 0. , 0. ,\\n       0. , 0. , 0. , 0. , 0. , 0. , 0. , 0. , 0. , 0. , 0. , 0. , 0. ,\\n       0. , 0. , 0. , 0. , 0. , 0. , 0. , 0. , 0. , 0. , 0. , 0. , 0. ,\\n       0. , 0. , 0. , 0. , 0. , 0. , 0. , 0. , 0. , 0. , 0. , 0. , 0. ,\\n       0. , 0. , 0. , 0. , 0. , 0. , 0. , 0. , 0. , 0. , 0. , 0.7, 0.7,\\n       0.7, 0.7, 0.7, 0.7, 0.7, 0.7, 0.7, 0.7, 0.7, 0.7, 0.7, 0.7, 0.7,\\n       0.7, 0.7, 0.7, 0.7, 0.7, 0.7, 0.7, 0.7, 0.7, 0.7, 0.7, 0.7, 0.7,\\n       0.7, 0.7, 0.7, 0.7, 0.7, 0.7, 0.7, 0.7, 0.7, 0.7, 0.7, 0.7, 0.7,\\n       0.7, 0.7, 0.7, 0.7, 0.7, 0.7, 0.7, 0.7, 0.7, 0.7, 0.7, 0.7, 0.7,\\n       0.7, 0.7, 0.7, 0. , 0. , 0. , 0. , 0. , 0. , 0. , 0. , 0. , 0. ,\\n       0. , 0. , 0. , 0. , 0. , 0. , 0. , 0. , 0. , 0. , 0. , 0. , 0. ,\\n       0. , 0. , 0. , 0. , 0. , 0. , 0. , 0. , 0. , 0. , 0. , 0. , 0. ,\\n       0. , 0. , 0. , 0. , 0. , 0. , 0. , 0. , 0. , 0. , 0. , 0. , 0. ,\\n       0. , 0. , 0. , 0. , 0. , 0. , 0. , 0. , 0. , 0. , 0. , 0. , 0. ,\\n       0. , 0. , 0. , 0. , 0. , 0. , 0. , 0. , 0. , 0. , 0. , 0. , 0. ,\\n       0. , 0. , 0. , 0. , 0. , 0. , 0. , 0. , 0. , 0. , 0. , 0. , 0. ,\\n       0. , 0. , 0. , 0. , 0. , 0. , 0. , 0. , 0. , 0. , 0. , 0. , 0. ,\\n       0. , 0. , 0. , 0. , 0. , 0. , 0. , 0. , 0. , 0. , 0. , 0. , 0. ,\\n       0. , 0. , 0. , 0. , 0. , 0. , 0. , 0. , 0. , 0. , 0. , 0. , 0. ,\\n       0. , 0. , 0. , 0. , 0. , 0. , 0. , 0. , 0. , 0. , 0. , 0. , 0. ,\\n       0. , 0. , 0. , 0. , 0. , 0. , 0. , 0. , 0. , 0. , 0. , 0. , 0. ,\\n       0. , 0. , 0. , 0. , 0. , 0. , 0. , 0. , 0. , 0. , 0. , 0. , 0. ,\\n       0. , 0. , 0. , 0. , 0. , 0. , 0. , 0. , 0. , 0. , 0. , 0. , 0. ,\\n       0. , 0. , 0. , 0. , 0. , 0. , 0. , 0. , 0. ])', Fraction(1, 180)))"
                                    ]
                              },
                              "execution_count": 43,
                              "metadata": {},
                              "output_type": "execute_result"
                        }
                  ],
                  "source": [
                        "mask_unpickle = pickle.loads(mask_pickle)\n",
                        "mask_unpickle"
                  ]
            },
            {
                  "cell_type": "code",
                  "execution_count": 44,
                  "metadata": {},
                  "outputs": [
                        {
                              "data": {
                                    "image/png": "[encoded data removed]",
                                    "text/plain": [
                                          "<Figure size 432x72 with 1 Axes>"
                                    ]
                              },
                              "execution_count": 44,
                              "metadata": {},
                              "output_type": "execute_result"
                        }
                  ],
                  "source": [
                        "mask_unpickle.plot()"
                  ]
            },
            {
                  "cell_type": "code",
                  "execution_count": 45,
                  "metadata": {},
                  "outputs": [
                        {
                              "data": {
                                    "text/plain": [
                                          "array([0.7, 0.7, 0.7, 0.7, 0.7, 0.7, 0.7, 0.7, 0.7, 0.7, 0.7, 0.7, 0.7,\n",
                                          "       0.7, 0.7, 0.7, 0.7, 0.7, 0.7, 0.7, 0.7, 0.7, 0.7, 0.7, 0.7, 0.7,\n",
                                          "       0.7, 0.7, 0.7, 0.7, 0.7, 0.7, 0.7, 0.7, 0.7, 0.7, 0.7, 0.7, 0.7,\n",
                                          "       0.7, 0.7, 0.7, 0.7, 0.7, 0.7, 0.7, 0.7, 0.7, 0.7, 0.7, 0.7, 0.7,\n",
                                          "       0.7, 0.7, 0.7, 0.7, 0.7, 0.7, 0. , 0. , 0. , 0. , 0. , 0. , 0. ,\n",
                                          "       0. , 0. , 0. , 0. , 0. , 0. , 0. , 0. , 0. , 0. , 0. , 0. , 0. ,\n",
                                          "       0. , 0. , 0. , 0. , 0. , 0. , 0. , 0. , 0. , 0. , 0. , 0. , 0. ,\n",
                                          "       0. , 0. , 0. , 0. , 0. , 0. , 0. , 0. , 0. , 0. , 0. , 0. , 0. ,\n",
                                          "       0. , 0. , 0. , 0. , 0. , 0. , 0. , 0. , 0. , 0. , 0. , 0.7, 0.7,\n",
                                          "       0.7, 0.7, 0.7, 0.7, 0.7, 0.7, 0.7, 0.7, 0.7, 0.7, 0.7, 0.7, 0.7,\n",
                                          "       0.7, 0.7, 0.7, 0.7, 0.7, 0.7, 0.7, 0.7, 0.7, 0.7, 0.7, 0.7, 0.7,\n",
                                          "       0.7, 0.7, 0.7, 0.7, 0.7, 0.7, 0.7, 0.7, 0.7, 0.7, 0.7, 0.7, 0.7,\n",
                                          "       0.7, 0.7, 0.7, 0.7, 0.7, 0.7, 0.7, 0.7, 0.7, 0.7, 0.7, 0.7, 0.7,\n",
                                          "       0.7, 0.7, 0.7, 0. , 0. , 0. , 0. , 0. , 0. , 0. , 0. , 0. , 0. ,\n",
                                          "       0. , 0. , 0. , 0. , 0. , 0. , 0. , 0. , 0. , 0. , 0. , 0. , 0. ,\n",
                                          "       0. , 0. , 0. , 0. , 0. , 0. , 0. , 0. , 0. , 0. , 0. , 0. , 0. ,\n",
                                          "       0. , 0. , 0. , 0. , 0. , 0. , 0. , 0. , 0. , 0. , 0. , 0. , 0. ,\n",
                                          "       0. , 0. , 0. , 0. , 0. , 0. , 0. , 0. , 0. , 0. , 0. , 0. , 0. ,\n",
                                          "       0. , 0. , 0. , 0. , 0. , 0. , 0. , 0. , 0. , 0. , 0. , 0. , 0. ,\n",
                                          "       0. , 0. , 0. , 0. , 0. , 0. , 0. , 0. , 0. , 0. , 0. , 0. , 0. ,\n",
                                          "       0. , 0. , 0. , 0. , 0. , 0. , 0. , 0. , 0. , 0. , 0. , 0. , 0. ,\n",
                                          "       0. , 0. , 0. , 0. , 0. , 0. , 0. , 0. , 0. , 0. , 0. , 0. , 0. ,\n",
                                          "       0. , 0. , 0. , 0. , 0. , 0. , 0. , 0. , 0. , 0. , 0. , 0. , 0. ,\n",
                                          "       0. , 0. , 0. , 0. , 0. , 0. , 0. , 0. , 0. , 0. , 0. , 0. , 0. ,\n",
                                          "       0. , 0. , 0. , 0. , 0. , 0. , 0. , 0. , 0. , 0. , 0. , 0. , 0. ,\n",
                                          "       0. , 0. , 0. , 0. , 0. , 0. , 0. , 0. , 0. , 0. , 0. , 0. , 0. ,\n",
                                          "       0. , 0. , 0. , 0. , 0. , 0. , 0. , 0. , 0. , 0. , 0. , 0. , 0. ,\n",
                                          "       0. , 0. , 0. , 0. , 0. , 0. , 0. , 0. , 0. ])"
                                    ]
                              },
                              "execution_count": 45,
                              "metadata": {},
                              "output_type": "execute_result"
                        }
                  ],
                  "source": [
                        "mask._values"
                  ]
            },
            {
                  "cell_type": "code",
                  "execution_count": 55,
                  "metadata": {},
                  "outputs": [
                        {
                              "data": {
                                    "text/plain": [
                                          "[0.7,\n",
                                          " 0.7,\n",
                                          " 0.7,\n",
                                          " 0.7,\n",
                                          " 0.7,\n",
                                          " 0.7,\n",
                                          " 0.7,\n",
                                          " 0.7,\n",
                                          " 0.7,\n",
                                          " 0.7,\n",
                                          " 0.7,\n",
                                          " 0.7,\n",
                                          " 0.7,\n",
                                          " 0.7,\n",
                                          " 0.7,\n",
                                          " 0.7,\n",
                                          " 0.7,\n",
                                          " 0.7,\n",
                                          " 0.7,\n",
                                          " 0.7,\n",
                                          " 0.7,\n",
                                          " 0.7,\n",
                                          " 0.7,\n",
                                          " 0.7,\n",
                                          " 0.7,\n",
                                          " 0.7,\n",
                                          " 0.7,\n",
                                          " 0.7,\n",
                                          " 0.7,\n",
                                          " 0.7,\n",
                                          " 0.7,\n",
                                          " 0.7,\n",
                                          " 0.7,\n",
                                          " 0.7,\n",
                                          " 0.7,\n",
                                          " 0.7,\n",
                                          " 0.7,\n",
                                          " 0.7,\n",
                                          " 0.7,\n",
                                          " 0.7,\n",
                                          " 0.7,\n",
                                          " 0.7,\n",
                                          " 0.7,\n",
                                          " 0.7,\n",
                                          " 0.7,\n",
                                          " 0.7,\n",
                                          " 0.7,\n",
                                          " 0.7,\n",
                                          " 0.7,\n",
                                          " 0.7,\n",
                                          " 0.7,\n",
                                          " 0.7,\n",
                                          " 0.7,\n",
                                          " 0.7,\n",
                                          " 0.7,\n",
                                          " 0.7,\n",
                                          " 0.7,\n",
                                          " 0.7,\n",
                                          " 0.0,\n",
                                          " 0.0,\n",
                                          " 0.0,\n",
                                          " 0.0,\n",
                                          " 0.0,\n",
                                          " 0.0,\n",
                                          " 0.0,\n",
                                          " 0.0,\n",
                                          " 0.0,\n",
                                          " 0.0,\n",
                                          " 0.0,\n",
                                          " 0.0,\n",
                                          " 0.0,\n",
                                          " 0.0,\n",
                                          " 0.0,\n",
                                          " 0.0,\n",
                                          " 0.0,\n",
                                          " 0.0,\n",
                                          " 0.0,\n",
                                          " 0.0,\n",
                                          " 0.0,\n",
                                          " 0.0,\n",
                                          " 0.0,\n",
                                          " 0.0,\n",
                                          " 0.0,\n",
                                          " 0.0,\n",
                                          " 0.0,\n",
                                          " 0.0,\n",
                                          " 0.0,\n",
                                          " 0.0,\n",
                                          " 0.0,\n",
                                          " 0.0,\n",
                                          " 0.0,\n",
                                          " 0.0,\n",
                                          " 0.0,\n",
                                          " 0.0,\n",
                                          " 0.0,\n",
                                          " 0.0,\n",
                                          " 0.0,\n",
                                          " 0.0,\n",
                                          " 0.0,\n",
                                          " 0.0,\n",
                                          " 0.0,\n",
                                          " 0.0,\n",
                                          " 0.0,\n",
                                          " 0.0,\n",
                                          " 0.0,\n",
                                          " 0.0,\n",
                                          " 0.0,\n",
                                          " 0.0,\n",
                                          " 0.0,\n",
                                          " 0.0,\n",
                                          " 0.0,\n",
                                          " 0.0,\n",
                                          " 0.0,\n",
                                          " 0.0,\n",
                                          " 0.0,\n",
                                          " 0.7,\n",
                                          " 0.7,\n",
                                          " 0.7,\n",
                                          " 0.7,\n",
                                          " 0.7,\n",
                                          " 0.7,\n",
                                          " 0.7,\n",
                                          " 0.7,\n",
                                          " 0.7,\n",
                                          " 0.7,\n",
                                          " 0.7,\n",
                                          " 0.7,\n",
                                          " 0.7,\n",
                                          " 0.7,\n",
                                          " 0.7,\n",
                                          " 0.7,\n",
                                          " 0.7,\n",
                                          " 0.7,\n",
                                          " 0.7,\n",
                                          " 0.7,\n",
                                          " 0.7,\n",
                                          " 0.7,\n",
                                          " 0.7,\n",
                                          " 0.7,\n",
                                          " 0.7,\n",
                                          " 0.7,\n",
                                          " 0.7,\n",
                                          " 0.7,\n",
                                          " 0.7,\n",
                                          " 0.7,\n",
                                          " 0.7,\n",
                                          " 0.7,\n",
                                          " 0.7,\n",
                                          " 0.7,\n",
                                          " 0.7,\n",
                                          " 0.7,\n",
                                          " 0.7,\n",
                                          " 0.7,\n",
                                          " 0.7,\n",
                                          " 0.7,\n",
                                          " 0.7,\n",
                                          " 0.7,\n",
                                          " 0.7,\n",
                                          " 0.7,\n",
                                          " 0.7,\n",
                                          " 0.7,\n",
                                          " 0.7,\n",
                                          " 0.7,\n",
                                          " 0.7,\n",
                                          " 0.7,\n",
                                          " 0.7,\n",
                                          " 0.7,\n",
                                          " 0.7,\n",
                                          " 0.7,\n",
                                          " 0.7,\n",
                                          " 0.7,\n",
                                          " 0.7,\n",
                                          " 0.0,\n",
                                          " 0.0,\n",
                                          " 0.0,\n",
                                          " 0.0,\n",
                                          " 0.0,\n",
                                          " 0.0,\n",
                                          " 0.0,\n",
                                          " 0.0,\n",
                                          " 0.0,\n",
                                          " 0.0,\n",
                                          " 0.0,\n",
                                          " 0.0,\n",
                                          " 0.0,\n",
                                          " 0.0,\n",
                                          " 0.0,\n",
                                          " 0.0,\n",
                                          " 0.0,\n",
                                          " 0.0,\n",
                                          " 0.0,\n",
                                          " 0.0,\n",
                                          " 0.0,\n",
                                          " 0.0,\n",
                                          " 0.0,\n",
                                          " 0.0,\n",
                                          " 0.0,\n",
                                          " 0.0,\n",
                                          " 0.0,\n",
                                          " 0.0,\n",
                                          " 0.0,\n",
                                          " 0.0,\n",
                                          " 0.0,\n",
                                          " 0.0,\n",
                                          " 0.0,\n",
                                          " 0.0,\n",
                                          " 0.0,\n",
                                          " 0.0,\n",
                                          " 0.0,\n",
                                          " 0.0,\n",
                                          " 0.0,\n",
                                          " 0.0,\n",
                                          " 0.0,\n",
                                          " 0.0,\n",
                                          " 0.0,\n",
                                          " 0.0,\n",
                                          " 0.0,\n",
                                          " 0.0,\n",
                                          " 0.0,\n",
                                          " 0.0,\n",
                                          " 0.0,\n",
                                          " 0.0,\n",
                                          " 0.0,\n",
                                          " 0.0,\n",
                                          " 0.0,\n",
                                          " 0.0,\n",
                                          " 0.0,\n",
                                          " 0.0,\n",
                                          " 0.0,\n",
                                          " 0.0,\n",
                                          " 0.0,\n",
                                          " 0.0,\n",
                                          " 0.0,\n",
                                          " 0.0,\n",
                                          " 0.0,\n",
                                          " 0.0,\n",
                                          " 0.0,\n",
                                          " 0.0,\n",
                                          " 0.0,\n",
                                          " 0.0,\n",
                                          " 0.0,\n",
                                          " 0.0,\n",
                                          " 0.0,\n",
                                          " 0.0,\n",
                                          " 0.0,\n",
                                          " 0.0,\n",
                                          " 0.0,\n",
                                          " 0.0,\n",
                                          " 0.0,\n",
                                          " 0.0,\n",
                                          " 0.0,\n",
                                          " 0.0,\n",
                                          " 0.0,\n",
                                          " 0.0,\n",
                                          " 0.0,\n",
                                          " 0.0,\n",
                                          " 0.0,\n",
                                          " 0.0,\n",
                                          " 0.0,\n",
                                          " 0.0,\n",
                                          " 0.0,\n",
                                          " 0.0,\n",
                                          " 0.0,\n",
                                          " 0.0,\n",
                                          " 0.0,\n",
                                          " 0.0,\n",
                                          " 0.0,\n",
                                          " 0.0,\n",
                                          " 0.0,\n",
                                          " 0.0,\n",
                                          " 0.0,\n",
                                          " 0.0,\n",
                                          " 0.0,\n",
                                          " 0.0,\n",
                                          " 0.0,\n",
                                          " 0.0,\n",
                                          " 0.0,\n",
                                          " 0.0,\n",
                                          " 0.0,\n",
                                          " 0.0,\n",
                                          " 0.0,\n",
                                          " 0.0,\n",
                                          " 0.0,\n",
                                          " 0.0,\n",
                                          " 0.0,\n",
                                          " 0.0,\n",
                                          " 0.0,\n",
                                          " 0.0,\n",
                                          " 0.0,\n",
                                          " 0.0,\n",
                                          " 0.0,\n",
                                          " 0.0,\n",
                                          " 0.0,\n",
                                          " 0.0,\n",
                                          " 0.0,\n",
                                          " 0.0,\n",
                                          " 0.0,\n",
                                          " 0.0,\n",
                                          " 0.0,\n",
                                          " 0.0,\n",
                                          " 0.0,\n",
                                          " 0.0,\n",
                                          " 0.0,\n",
                                          " 0.0,\n",
                                          " 0.0,\n",
                                          " 0.0,\n",
                                          " 0.0,\n",
                                          " 0.0,\n",
                                          " 0.0,\n",
                                          " 0.0,\n",
                                          " 0.0,\n",
                                          " 0.0,\n",
                                          " 0.0,\n",
                                          " 0.0,\n",
                                          " 0.0,\n",
                                          " 0.0,\n",
                                          " 0.0,\n",
                                          " 0.0,\n",
                                          " 0.0,\n",
                                          " 0.0,\n",
                                          " 0.0,\n",
                                          " 0.0,\n",
                                          " 0.0,\n",
                                          " 0.0,\n",
                                          " 0.0,\n",
                                          " 0.0,\n",
                                          " 0.0,\n",
                                          " 0.0,\n",
                                          " 0.0,\n",
                                          " 0.0,\n",
                                          " 0.0,\n",
                                          " 0.0,\n",
                                          " 0.0,\n",
                                          " 0.0,\n",
                                          " 0.0,\n",
                                          " 0.0,\n",
                                          " 0.0,\n",
                                          " 0.0,\n",
                                          " 0.0,\n",
                                          " 0.0,\n",
                                          " 0.0,\n",
                                          " 0.0,\n",
                                          " 0.0,\n",
                                          " 0.0,\n",
                                          " 0.0,\n",
                                          " 0.0,\n",
                                          " 0.0,\n",
                                          " 0.0,\n",
                                          " 0.0,\n",
                                          " 0.0,\n",
                                          " 0.0,\n",
                                          " 0.0,\n",
                                          " 0.0,\n",
                                          " 0.0,\n",
                                          " 0.0,\n",
                                          " 0.0,\n",
                                          " 0.0,\n",
                                          " 0.0,\n",
                                          " 0.0,\n",
                                          " 0.0]"
                                    ]
                              },
                              "execution_count": 55,
                              "metadata": {},
                              "output_type": "execute_result"
                        }
                  ],
                  "source": [
                        "maskvals = mask._values.tolist()\n",
                        "maskvals"
                  ]
            },
            {
                  "cell_type": "code",
                  "execution_count": 50,
                  "metadata": {},
                  "outputs": [],
                  "source": [
                        "import json"
                  ]
            },
            {
                  "cell_type": "code",
                  "execution_count": 52,
                  "metadata": {},
                  "outputs": [
                        {
                              "data": {
                                    "text/plain": [
                                          "'[1, 180]'"
                                    ]
                              },
                              "execution_count": 52,
                              "metadata": {},
                              "output_type": "execute_result"
                        }
                  ],
                  "source": [
                        "json.dumps(mask._base_angle.as_integer_ratio())"
                  ]
            },
            {
                  "cell_type": "code",
                  "execution_count": 54,
                  "metadata": {},
                  "outputs": [
                        {
                              "data": {
                                    "text/plain": [
                                          "Fraction(1, 180)"
                                    ]
                              },
                              "execution_count": 54,
                              "metadata": {},
                              "output_type": "execute_result"
                        }
                  ],
                  "source": [
                        "from fractions import Fraction\n",
                        "\n",
                        "\n",
                        "Fraction(*json.loads('[1, 180]'))"
                  ]
            },
            {
                  "cell_type": "code",
                  "execution_count": 56,
                  "metadata": {},
                  "outputs": [],
                  "source": [
                        "import numpy as np"
                  ]
            },
            {
                  "cell_type": "code",
                  "execution_count": null,
                  "metadata": {},
                  "outputs": [],
                  "source": []
            },
            {
                  "cell_type": "code",
                  "execution_count": 58,
                  "metadata": {},
                  "outputs": [
                        {
                              "data": {
                                    "text/plain": [
                                          "array([0.7, 0.7, 0.7, 0.7, 0.7, 0.7, 0.7, 0.7, 0.7, 0.7, 0.7, 0.7, 0.7,\n",
                                          "       0.7, 0.7, 0.7, 0.7, 0.7, 0.7, 0.7, 0.7, 0.7, 0.7, 0.7, 0.7, 0.7,\n",
                                          "       0.7, 0.7, 0.7, 0.7, 0.7, 0.7, 0.7, 0.7, 0.7, 0.7, 0.7, 0.7, 0.7,\n",
                                          "       0.7, 0.7, 0.7, 0.7, 0.7, 0.7, 0.7, 0.7, 0.7, 0.7, 0.7, 0.7, 0.7,\n",
                                          "       0.7, 0.7, 0.7, 0.7, 0.7, 0.7, 0. , 0. , 0. , 0. , 0. , 0. , 0. ,\n",
                                          "       0. , 0. , 0. , 0. , 0. , 0. , 0. , 0. , 0. , 0. , 0. , 0. , 0. ,\n",
                                          "       0. , 0. , 0. , 0. , 0. , 0. , 0. , 0. , 0. , 0. , 0. , 0. , 0. ,\n",
                                          "       0. , 0. , 0. , 0. , 0. , 0. , 0. , 0. , 0. , 0. , 0. , 0. , 0. ,\n",
                                          "       0. , 0. , 0. , 0. , 0. , 0. , 0. , 0. , 0. , 0. , 0. , 0.7, 0.7,\n",
                                          "       0.7, 0.7, 0.7, 0.7, 0.7, 0.7, 0.7, 0.7, 0.7, 0.7, 0.7, 0.7, 0.7,\n",
                                          "       0.7, 0.7, 0.7, 0.7, 0.7, 0.7, 0.7, 0.7, 0.7, 0.7, 0.7, 0.7, 0.7,\n",
                                          "       0.7, 0.7, 0.7, 0.7, 0.7, 0.7, 0.7, 0.7, 0.7, 0.7, 0.7, 0.7, 0.7,\n",
                                          "       0.7, 0.7, 0.7, 0.7, 0.7, 0.7, 0.7, 0.7, 0.7, 0.7, 0.7, 0.7, 0.7,\n",
                                          "       0.7, 0.7, 0.7, 0. , 0. , 0. , 0. , 0. , 0. , 0. , 0. , 0. , 0. ,\n",
                                          "       0. , 0. , 0. , 0. , 0. , 0. , 0. , 0. , 0. , 0. , 0. , 0. , 0. ,\n",
                                          "       0. , 0. , 0. , 0. , 0. , 0. , 0. , 0. , 0. , 0. , 0. , 0. , 0. ,\n",
                                          "       0. , 0. , 0. , 0. , 0. , 0. , 0. , 0. , 0. , 0. , 0. , 0. , 0. ,\n",
                                          "       0. , 0. , 0. , 0. , 0. , 0. , 0. , 0. , 0. , 0. , 0. , 0. , 0. ,\n",
                                          "       0. , 0. , 0. , 0. , 0. , 0. , 0. , 0. , 0. , 0. , 0. , 0. , 0. ,\n",
                                          "       0. , 0. , 0. , 0. , 0. , 0. , 0. , 0. , 0. , 0. , 0. , 0. , 0. ,\n",
                                          "       0. , 0. , 0. , 0. , 0. , 0. , 0. , 0. , 0. , 0. , 0. , 0. , 0. ,\n",
                                          "       0. , 0. , 0. , 0. , 0. , 0. , 0. , 0. , 0. , 0. , 0. , 0. , 0. ,\n",
                                          "       0. , 0. , 0. , 0. , 0. , 0. , 0. , 0. , 0. , 0. , 0. , 0. , 0. ,\n",
                                          "       0. , 0. , 0. , 0. , 0. , 0. , 0. , 0. , 0. , 0. , 0. , 0. , 0. ,\n",
                                          "       0. , 0. , 0. , 0. , 0. , 0. , 0. , 0. , 0. , 0. , 0. , 0. , 0. ,\n",
                                          "       0. , 0. , 0. , 0. , 0. , 0. , 0. , 0. , 0. , 0. , 0. , 0. , 0. ,\n",
                                          "       0. , 0. , 0. , 0. , 0. , 0. , 0. , 0. , 0. , 0. , 0. , 0. , 0. ,\n",
                                          "       0. , 0. , 0. , 0. , 0. , 0. , 0. , 0. , 0. ])"
                                    ]
                              },
                              "execution_count": 58,
                              "metadata": {},
                              "output_type": "execute_result"
                        }
                  ],
                  "source": [
                        "np.array(maskvals)"
                  ]
            },
            {
                  "cell_type": "code",
                  "execution_count": null,
                  "metadata": {},
                  "outputs": [],
                  "source": []
            }
      ],
      "metadata": {
            "kernelspec": {
                  "display_name": "Python 3",
                  "language": "python",
                  "name": "python3"
            },
            "language_info": {
                  "codemirror_mode": {
                        "name": "ipython",
                        "version": 3
                  },
                  "file_extension": ".py",
                  "mimetype": "text/x-python",
                  "name": "python",
                  "nbconvert_exporter": "python",
                  "pygments_lexer": "ipython3",
                  "version": "3.10.12"
            }
      },
      "nbformat": 4,
      "nbformat_minor": 2
}
